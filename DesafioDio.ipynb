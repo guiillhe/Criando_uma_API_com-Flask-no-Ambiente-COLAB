{
  "nbformat": 4,
  "nbformat_minor": 0,
  "metadata": {
    "colab": {
      "provenance": []
    },
    "kernelspec": {
      "name": "python3",
      "display_name": "Python 3"
    },
    "language_info": {
      "name": "python"
    }
  },
  "cells": [
    {
      "cell_type": "code",
      "source": [
        "!pip install flask_ngrok"
      ],
      "metadata": {
        "colab": {
          "base_uri": "https://localhost:8080/"
        },
        "id": "AYyA7AtM3V7v",
        "outputId": "8313dab0-6929-4556-e378-32ff85609129"
      },
      "execution_count": 77,
      "outputs": [
        {
          "output_type": "stream",
          "name": "stdout",
          "text": [
            "Looking in indexes: https://pypi.org/simple, https://us-python.pkg.dev/colab-wheels/public/simple/\n",
            "Requirement already satisfied: flask_ngrok in /usr/local/lib/python3.9/dist-packages (0.0.25)\n",
            "Requirement already satisfied: requests in /usr/local/lib/python3.9/dist-packages (from flask_ngrok) (2.27.1)\n",
            "Requirement already satisfied: Flask>=0.8 in /usr/local/lib/python3.9/dist-packages (from flask_ngrok) (2.2.3)\n",
            "Requirement already satisfied: importlib-metadata>=3.6.0 in /usr/local/lib/python3.9/dist-packages (from Flask>=0.8->flask_ngrok) (6.1.0)\n",
            "Requirement already satisfied: Jinja2>=3.0 in /usr/local/lib/python3.9/dist-packages (from Flask>=0.8->flask_ngrok) (3.1.2)\n",
            "Requirement already satisfied: Werkzeug>=2.2.2 in /usr/local/lib/python3.9/dist-packages (from Flask>=0.8->flask_ngrok) (2.2.3)\n",
            "Requirement already satisfied: click>=8.0 in /usr/local/lib/python3.9/dist-packages (from Flask>=0.8->flask_ngrok) (8.1.3)\n",
            "Requirement already satisfied: itsdangerous>=2.0 in /usr/local/lib/python3.9/dist-packages (from Flask>=0.8->flask_ngrok) (2.1.2)\n",
            "Requirement already satisfied: certifi>=2017.4.17 in /usr/local/lib/python3.9/dist-packages (from requests->flask_ngrok) (2022.12.7)\n",
            "Requirement already satisfied: charset-normalizer~=2.0.0 in /usr/local/lib/python3.9/dist-packages (from requests->flask_ngrok) (2.0.12)\n",
            "Requirement already satisfied: idna<4,>=2.5 in /usr/local/lib/python3.9/dist-packages (from requests->flask_ngrok) (3.4)\n",
            "Requirement already satisfied: urllib3<1.27,>=1.21.1 in /usr/local/lib/python3.9/dist-packages (from requests->flask_ngrok) (1.26.15)\n",
            "Requirement already satisfied: zipp>=0.5 in /usr/local/lib/python3.9/dist-packages (from importlib-metadata>=3.6.0->Flask>=0.8->flask_ngrok) (3.15.0)\n",
            "Requirement already satisfied: MarkupSafe>=2.0 in /usr/local/lib/python3.9/dist-packages (from Jinja2>=3.0->Flask>=0.8->flask_ngrok) (2.1.2)\n"
          ]
        }
      ]
    },
    {
      "cell_type": "code",
      "source": [
        "!pip install ngrok\n",
        "!pip install pyngrok"
      ],
      "metadata": {
        "colab": {
          "base_uri": "https://localhost:8080/"
        },
        "id": "eIm7tqIOlWX8",
        "outputId": "0f4d5269-9a67-473e-c176-413af5c7b83c"
      },
      "execution_count": 80,
      "outputs": [
        {
          "output_type": "stream",
          "name": "stdout",
          "text": [
            "Looking in indexes: https://pypi.org/simple, https://us-python.pkg.dev/colab-wheels/public/simple/\n",
            "Requirement already satisfied: ngrok in /usr/local/lib/python3.9/dist-packages (0.3.0)\n",
            "Looking in indexes: https://pypi.org/simple, https://us-python.pkg.dev/colab-wheels/public/simple/\n",
            "Collecting pyngrok\n",
            "  Downloading pyngrok-5.2.1.tar.gz (761 kB)\n",
            "\u001b[2K     \u001b[90m━━━━━━━━━━━━━━━━━━━━━━━━━━━━━━━━━━━━━━\u001b[0m \u001b[32m761.3/761.3 KB\u001b[0m \u001b[31m12.4 MB/s\u001b[0m eta \u001b[36m0:00:00\u001b[0m\n",
            "\u001b[?25h  Preparing metadata (setup.py) ... \u001b[?25l\u001b[?25hdone\n",
            "Requirement already satisfied: PyYAML in /usr/local/lib/python3.9/dist-packages (from pyngrok) (6.0)\n",
            "Building wheels for collected packages: pyngrok\n",
            "  Building wheel for pyngrok (setup.py) ... \u001b[?25l\u001b[?25hdone\n",
            "  Created wheel for pyngrok: filename=pyngrok-5.2.1-py3-none-any.whl size=19790 sha256=f2666f91d526dbc96622e3008c49744e266a78f5e7a3a9eceacb484b4623c1ae\n",
            "  Stored in directory: /root/.cache/pip/wheels/f6/89/59/49d4249e00957e94813ac136a335d10ed2e09a856c5096f95c\n",
            "Successfully built pyngrok\n",
            "Installing collected packages: pyngrok\n",
            "Successfully installed pyngrok-5.2.1\n"
          ]
        }
      ]
    },
    {
      "cell_type": "code",
      "source": [
        "!curl -L https://bin.equinox.io/c/4VmDzA7iaHb/ngrok-stable-linux-amd64.zip -o ngrok.zip && unzip ngrok.zip && rm ngrok.zip\n"
      ],
      "metadata": {
        "colab": {
          "base_uri": "https://localhost:8080/"
        },
        "id": "0_oCepP6hdvz",
        "outputId": "c96b3064-aa1f-414b-ae4a-91a3a011e766"
      },
      "execution_count": 68,
      "outputs": [
        {
          "output_type": "stream",
          "name": "stdout",
          "text": [
            "  % Total    % Received % Xferd  Average Speed   Time    Time     Time  Current\n",
            "                                 Dload  Upload   Total   Spent    Left  Speed\n",
            "100 13.2M  100 13.2M    0     0  5120k      0  0:00:02  0:00:02 --:--:-- 5118k\n",
            "Archive:  ngrok.zip\n",
            "replace ngrok? [y]es, [n]o, [A]ll, [N]one, [r]ename: y\n",
            "  inflating: ngrok                   \n"
          ]
        }
      ]
    },
    {
      "cell_type": "code",
      "source": [
        "import pandas as pd\n",
        "from flask_ngrok import run_with_ngrok\n",
        "from flask import request, jsonify, Flask\n",
        "import random as rk\n",
        "from pyngrok import ngrok\n"
      ],
      "metadata": {
        "id": "zB9kxqVi3sAn"
      },
      "execution_count": 81,
      "outputs": []
    },
    {
      "cell_type": "code",
      "source": [
        "!ngrok authtoken \"Your tokn here\""
      ],
      "metadata": {
        "colab": {
          "base_uri": "https://localhost:8080/"
        },
        "id": "xzWt4gw-pZ-Z",
        "outputId": "59d19269-9d98-43bc-aae2-2aace664d8fc"
      },
      "execution_count": 90,
      "outputs": [
        {
          "output_type": "stream",
          "name": "stdout",
          "text": [
            "Authtoken saved to configuration file: /root/.ngrok2/ngrok.yml\n"
          ]
        }
      ]
    },
    {
      "cell_type": "code",
      "execution_count": 91,
      "metadata": {
        "id": "rGXIGaaJ-eiY"
      },
      "outputs": [],
      "source": [
        "app = Flask(__name__) #the name of the application package\n",
        "run_with_ngrok(app) "
      ]
    },
    {
      "cell_type": "code",
      "source": [
        "import pandas as pd\n",
        "import json\n",
        "base_dados = pd.read_excel('drive/MyDrive/base.xlsx')\n",
        "print(base_dados)"
      ],
      "metadata": {
        "colab": {
          "base_uri": "https://localhost:8080/"
        },
        "id": "XRMIjWNIeR4-",
        "outputId": "8a5fdbc2-121c-451b-8ed0-d18e41cc39f1"
      },
      "execution_count": 92,
      "outputs": [
        {
          "output_type": "stream",
          "name": "stdout",
          "text": [
            "   Number    Name  Age           City Country\n",
            "0       1  Mahesh   25      Bangalore   India\n",
            "1       2    Alex   26         London      UK\n",
            "2       3   David   27  San Francisco     USA\n",
            "3       4    John   28        Toronto  Canada\n",
            "4       5   Chris   29          Paris  France\n"
          ]
        }
      ]
    },
    {
      "cell_type": "markdown",
      "source": [],
      "metadata": {
        "id": "sWWivsdYeOYh"
      }
    },
    {
      "cell_type": "code",
      "source": [
        "base_dados_json = base_dados.to_json(orient='records')\n",
        "print(base_dados_json)"
      ],
      "metadata": {
        "colab": {
          "base_uri": "https://localhost:8080/"
        },
        "id": "MiOSd4gRgbw3",
        "outputId": "538dc7a6-8392-4587-c9eb-3d5b74f1a0cf"
      },
      "execution_count": 93,
      "outputs": [
        {
          "output_type": "stream",
          "name": "stdout",
          "text": [
            "[{\"Number\":1,\"Name\":\"Mahesh\",\"Age\":25,\"City\":\"Bangalore\",\"Country\":\"India\"},{\"Number\":2,\"Name\":\"Alex\",\"Age\":26,\"City\":\"London\",\"Country\":\"UK\"},{\"Number\":3,\"Name\":\"David\",\"Age\":27,\"City\":\"San Francisco\",\"Country\":\"USA\"},{\"Number\":4,\"Name\":\"John\",\"Age\":28,\"City\":\"Toronto\",\"Country\":\"Canada\"},{\"Number\":5,\"Name\":\"Chris\",\"Age\":29,\"City\":\"Paris\",\"Country\":\"France\"}]\n"
          ]
        }
      ]
    },
    {
      "cell_type": "markdown",
      "source": [],
      "metadata": {
        "id": "3tTsJ7b-lfvM"
      }
    },
    {
      "cell_type": "code",
      "execution_count": 94,
      "metadata": {
        "id": "DgYHiRDshfXV"
      },
      "outputs": [],
      "source": [
        "app = Flask(__name__) #the name of the application package\n",
        "run_with_ngrok(app) "
      ]
    },
    {
      "cell_type": "code",
      "execution_count": 95,
      "metadata": {
        "id": "gQ8XIb3e-xn-"
      },
      "outputs": [],
      "source": [
        "@app.route(\"/\") #code to assign HomePage URL in our app to function home.\n",
        "\n",
        "def home():\n",
        "  '''\n",
        "  The entire line below must be written in a single line.\n",
        "  '''\n",
        "  return \"<marquee><h3> TO CHECK IN PUT ADD '/input' TO THE URL AND TO CHECK OUT PUT ADD '/output' TO THE URL.</h3></marquee>\""
      ]
    },
    {
      "cell_type": "code",
      "execution_count": 96,
      "metadata": {
        "id": "RhOB_8NI-3x2"
      },
      "outputs": [],
      "source": [
        "@app.route(\"/input\") #code to assign Input URL in our app to function input.\n",
        "\n",
        "def input():\n",
        "  return jsonify(base_dados_json) # \"basee_dados_json\" is the dictionary loadeed by pandas from my drive"
      ]
    },
    {
      "cell_type": "code",
      "execution_count": 97,
      "metadata": {
        "colab": {
          "base_uri": "https://localhost:8080/"
        },
        "id": "leQIwJoF_Aal",
        "outputId": "6cb3e4c3-9126-437b-ea8b-f25285a6e029"
      },
      "outputs": [
        {
          "output_type": "stream",
          "name": "stdout",
          "text": [
            " * Serving Flask app '__main__'\n",
            " * Debug mode: off\n"
          ]
        },
        {
          "output_type": "stream",
          "name": "stderr",
          "text": [
            "INFO:werkzeug:\u001b[31m\u001b[1mWARNING: This is a development server. Do not use it in a production deployment. Use a production WSGI server instead.\u001b[0m\n",
            " * Running on http://127.0.0.1:5000\n",
            "INFO:werkzeug:\u001b[33mPress CTRL+C to quit\u001b[0m\n"
          ]
        },
        {
          "output_type": "stream",
          "name": "stdout",
          "text": [
            " * Running on http://bcc8-34-80-78-202.ngrok-free.app\n",
            " * Traffic stats available on http://127.0.0.1:4040\n"
          ]
        },
        {
          "output_type": "stream",
          "name": "stderr",
          "text": [
            "INFO:werkzeug:127.0.0.1 - - [08/Apr/2023 21:17:37] \"GET / HTTP/1.1\" 200 -\n",
            "INFO:werkzeug:127.0.0.1 - - [08/Apr/2023 21:18:00] \"GET /input HTTP/1.1\" 200 -\n"
          ]
        }
      ],
      "source": [
        "@app.route('/output', methods=['GET','POST']) #output page\n",
        "\n",
        "def predJson():\n",
        " nd = base_dados_json # our input\n",
        " \n",
        " return jsonify(nd)\n",
        "\n",
        "app.run()"
      ]
    },
    {
      "cell_type": "markdown",
      "source": [
        "![Screenshot from 2023-04-08 18-20-36.png](data:image/png;base64,iVBORw0KGgoAAAANSUhEUgAABU8AAAGVCAYAAADOsQA5AAAABHNCSVQICAgIfAhkiAAAABl0RVh0U29mdHdhcmUAZ25vbWUtc2NyZWVuc2hvdO8Dvz4AAAAmdEVYdENyZWF0aW9uIFRpbWUAc+FiIDA4IGFiciAyMDIzIDE4OjIwOjM2rT8uYgAAIABJREFUeJzs3Xd4FNX6wPHvzG42vSckEEoandB7kV4FRDpIVdGfvV3btVz1eq/l2isKIggiIr0Teu8QagiEACGk99525/dHQkhgk2xoifp+nsfncrM7s2fOnDnvOe+emVWGDh2qIYS4Z1JTUwkPD8fW1haDwVDdxRFCCCGEEEKIMvLz88nJySEwMBAXF5fqLo4QQlQrfXUXQIi/GxcXFwIDA4mKiiItLa26iyOEEEIIIYQQZdjY2EjiVAghiknyVIhq4OLiIgMRIYQQQgghhBBCiBpOre4CCCGEEEIIIYQQQgghRE0kyVMhhBBCCCGEEEIIIYQwQ5KnQgghhBBCCCGEEEIIYYbi7e2tVXchhBBCCCGEEEIIIYQQoqZR7N7X/lLJU/VDp+oughBCCCGEEEIIIYQQ4i9AbtsXQgghhBBCCCGEEEIIMxQHB8e/1MpTIYQQQgghhBBCCCGEuBNk5akQQgghhBBCCCGEEEKYIclTIYQQQgghhBBCCCGEMEOSp0IIIYQQQgghhBBCCGGGJE+FEEIIIYQQQgghhBDCDEmeCiGEEEIIIYQQQgghhBmSPBU1hmrtjJOtUt3FEEIIIYQQQgghhBACkOTpn4CC3mDFXz6lqHjQ/+XPebStdXWXRAghhBBCCCGEEEII4DaSp7pGL7I9dhHjnQDFlc7PzmHH2WiSkuOIPLWVmRMD0F17r1d3npm5npBLcSTGX+JE8A8818O75HWrTv/l+MVVPNnEUOoT7Bn7WzRbnvW7ixleBc/+r/HjL7+yYMEC5s76hg9fm05ff/s7m6xU7Oj81EzmLfiVBfPnMfvb//Hmk6Pp5GNT6efYdH6Wb//RC5fqzJ5ateWJHz5lQoDu+t8UZ/q8Noc3+rvdubr6y2eIhRBCCCGEEEIIIcSfif5O7MS66+vMfs2fNU8MZurRNBz82uObHosRUJx68O9VixkR9RVvjHmOkDQX2ox5jf/8sQKvMf15Y1cGAIprT96d+zbH+7/FngztThTLAgp6G3t0Z+bywjf7KLB1x7fLOB59+VFyXvuKvWl3qhw6rO0NRC55g482JWPtWpcWvccw7V9B1P7wv6yIyKtgUz268l8VQgghhBBCCCGEEELcJXcgeapg7+eP56UNzF9znEtG4MolTgGg4jv5DR5WZzN80gcczCna4uJ/JhHrsItlb05m1uDviAK0+I0svjSSb/+zgz7PbSL5XuVPAQpyycrMJDszk5B16zgy4Fla+uvZG+JIj6ffYlIbN6yNKZzbNo/vfwul4dNfMTruA15ffBGjLpAJHz2Hzc8v8PPpQlSfEbz3Zl1WvvANh3LLfowxP4esrHQys86wY8H/SLH6gGfH92D3B5tJaTiGd58bRF0Hlezooyz/4Uc2XSpKquqbT+ebBdPBGM7Cl99hbXorpr/3ON097SDjEvt++5af98ZhvIdVdhOdO21GPczYnk3x1iVyYs1sflx7jizczNThMVI0UFxaMurRKfRv7omScoUUG4W4SvfnRJsJzzKhmz9ejgppu77h9VXWjHtiAt38nCEjjGUff8jayGqtDSGEEEIIIYQQQgjxF3AH7ojXSNu/mSP1H+frj6fQxcf2+kuKM116tiRq7TKO5pTeJpuDS9cS06o3Xa/dj26MYskLL7C71+d8ONSzeu7gVm3wat2RJg45ZGWbQEvn5JJPeP3ZJ3nhkx3oek/h/oaFnD97GTd/PxwVUFwCCPB0wc/fExUFW78APCPPEl7BYlIAtGxO7zlCZkBLGtuCKWo7M999gaeeeYMFlwMYP7ZLya36hWfm8uyUyUyZ9i/WxZkg9wLrvnyT5596ln+vSqPN5FG0rtZHhSrU6vM4/9c+lVUfvMQ/Pt+L/dDHGR6gL6cOdaC40G36U/TUtvDZay/xzo/bicq3YH+KPT6N/Ule/RbPPf0S7y85R8Cwh2gR9QuvPD6D596dw75YSZwKIYQQQgghhBBCiNt3Rx4nagz/gQn3/5M9tR9n4dFT7Jz1NF09VFCccHNRSYpPwnTDNqaEOBIUV9ydr6dJTUnBvPHCJjp++B+Get6737LSt5zO5z/M4qc5s/n0+d7Yn1rJ5nAjUEhqzFWSM7NIObeD/Zec8KplIC30DHENmhBgULAJbIRLbAzOjRpip+gJaOJH/JlQLLnjX8tII0NxwMFWQctOICo+naz0aA7uOkGWR23crlWBpmEyGTGaNDQALZ24qEQyslK5tHMP5/S18HK+y+lm1YvBb85mzpyfi/776QumNCt+oIDiQdsugVzetJT9USkkha0n+LQjzZp5oZqtQ2sUuyA6NU9i6+8bCYtLJDoshHNJmgX7A9DISo4nNT2Z+JRscnPzsfOuTy1bE5kJMSTnl3MMQgghhBBCCCGEEEJUwe3ftl+UzSPt+G+8NfE3/lu/D89/+yOLZ2fTddQyklJMeHh5oBJZJoGqenrhqSWTlKpBres7S9v6Lq9s3cnn/x7E1/do+Wlh6GLe+/EgaqupvDoohi++3EqMETDUo+eU6QxrWx9XfT4FOh3hOxW0mFOczupJcz9r8prV5cLqNehHNqORbTSNG+VwemvsTclicxRnF5y1TDJzwCVoFA+P70ljb3tM+Ro2WVvLzWzranViwsOj6OzvgXVhPopVPOGKQvHJuDtMiez4/mPWXC5e1ak40uWxf9IcQHXG1dmKppM/5+eHil9WISHJDqWcOlQcnHFUUorO/40q2h+ZN7zZyPllX/H7+Ek88XFfUg8tY+6CLURk38vnPgghhBBCCCGEEEKIv6JbTp4qjs44GXPIKSz795zIrXz6ySqmLepBa6u57Nt+HJ9HHqTth0dLnnkKdnQcdT+1Q2ax58Ylmloqm959g707P+QZVU/s3lstYRUUZJGSnEz29gUs7/A24/vt5IP1MTh2f4jJfuF8+s8POJvuSN9X/0drAOMljp2EaW3uw9gwnlNLT6Dv+gCteyTjp55ggSXP21TsadmjHfYXVhOW35hhD/dGW/UBz++Ixth0Kh9NL3qbyWQCvb7UibKmzZiHaZM0m3c/O0yi2pGnvxxyV6qlLCPZSXHExV1LnuaSfm2FpymDtPR8jq94jk93ZZZK4Sq49HnVbB1qGSmkmTyo5a5C5g31Ve7+ALX2TSXTsi+ybc6/2bW8BWNeeJ7/GxbB679HVO8zYIUQQgghhBBCCCHEn14V7o23oc1DL/BQ92YENOnK1GdGUufkQU7kgV2HCTw5qjst/OtRv3FXJk7qjWtkOJcLTVxe8B9+Mj7K3AWv82CnpgQ27cTINxbw0/QCfnr/Vy6bWaKpJa7l3f+exrH2vbt1v+iDE9ixeAd2wx6iu7uCoqgogKqzwkqvlFrYWUD44ePY9BpN1/TjnMpI40RIMu1G9sPxxCEiCs3vXmfriIuLO16+reg79VX+r0MqaxftJFFTUBQFTVGxstKjA7TizzImJZBepyXt/dxx92mAl52KqiiAimplQK/e1fWmltESOHbwMg2HTaRHoBcuzm7U9q+Hq0L5dZhznF1H7ek7eSRt6rrh7OaOk3Xl+7uZgkuDRtR1sUWXl8DVxHxsbG3uyWELIYQQQgghhBBCiL82y1eeKnY41G7HE2+/zFfuJmKPLeXFp3/mokmltltDej77T15pUgdnJZ1Lh1bw0iNfcLwQyNjN28PHEPvuG7yz+Hnq2uVy9dgGZo55gm92Z5ST+DMRtehtPnu4K0Pv0IFaqvByMGvCPmbssGYcWLyYpUEzePqTwTioBWSlxbEn3YgGFITt4WDWffgdDSFV0+DYEWInuHNhXzgFN+3VSG5WPvUffJevHzSSl55AZOhB5r67kv1ReUAY6xce4omJ/+Lr6daYcjNICltJjgbG8GCWHH2ByW9/wdisCFZ9/h5rViyk7eOT+e/3z2BlzCE9/ijH8qszhWoiJvg7ZjpNZ/yLH/KoA2Re3cGs9+cRsq+cOtRyOTLvM1ynTGP6O8NwsSokM/ESW5NNFe4vJefGzzZQr/t0nuhXFyc1j8Tw3Sz8PUxWnQohhBBCCCGEEEKI26Y4ODhW+8JFIYQQQgghhBBCCCGEqGnu8X3xQgghhBBCCCGEEEII8ecgyVMhhBBCCCGEEEIIIYQwQ5KnQgghhBBCCCGEEEIIYYYkT4UQQgghhBBCCCGEEMIMSZ4KIYQQQgghhBBCCCGEGZI8FUIIIYQQQgghhBBCCDMkeSqEEEIIIYQQQgghhBBmSPJUCCGEEEIIIYQQQgghzNC3aNG6ussghBBCCCGEEEIIIYQQNY7i7V1Hq+5CCCGEEEIIIYQQQgghRE2jr+hFBwdHXF3d0el0d70gRqORlJQkMjMzqrUcNbU8NcHfvU7MHb+9vWM1lkgIIYQQQgghhBBC3E0VJk/vZTJMp9Ph6upuNjFXHUm5mlaemuDvXiflHX9Wfl41lUgIIYQQQgghhBBC3E0V/mBUdSQsa0I5Kvvcv3qSsCJ/9zr5uxynEEIIIYQQQgghhKgkeSqEEEIIIYQQQgghhBB/V5I8FeIWBAUFVXcRhBBCCCGEEEIIIcRdJslTIYQQQgghhBBCCCGEMKPCH4wSd4fi2Jh+Pe0JWXeURPvr/04wVXfJanbZqk7Fu+0AGsRv4kCU0aIt7sbxTxw3Fk8P9wrfk5CYyMLf/7CsjG5t6NPdltNr95Lk2Y4OHlHsPxXHn/IUCSGEEEIIIYQQQtRglidPdW407zeQ+5p6YasUkpN4io1/bCci9y6Wrjx6Vxp160X3oPq42UBeWgzHNq5gd2R+NRQGVEdfOvXuTpsAT+yUAjLiz7B1xTbOZ2rmNzC4Uru2DWdu/Pc9ZtPofh4b7sy+n37jUIp258pm24KxTw+ivrGgOKGnkXl8ObO3XLnHCT4V1waN8cnZAtycPL1rx2/Gpi1bOXM2zOxrzZo0pnWrVje/YGhIj1Hd8TQaKSqdicywjWw+Fc7xAzrSjKA6eODhGA+AtU97Wjtd5mBoAuW0vCpQcGh6P72dQ1i7PwqrWq1o16E5Xg56tMJM4k9uY9+5FDSscAnoQFDjurjZW2HMSSbu/BGOh8WTD6g+PRnW3sShjbuILu4r1FpdGNQ2h90bQ0i//YIKIYQQQgghhBBC3DUWJ09tm/akv08MS3/4nSs5KvbuDpiqI3GKLQ0HjGGA00nWzl/DxTQTtu5eOOYVVEdhwMqHnuPup97FTfz+3XmSCgy41nbFlF3Ds0KKE83a1iMjyUTr1t4c3RZjJr14G4zhrPt6BWeq6bRU6m4ffymbtmxh9IgRREVHk56eUeY1JydHOnXowJr1681vbIzk8LItRBaW/XNiXNH/Wpf8RUHv6IWnYwwK3IHkaSmKB406NUMJXcOq8HRMBicc9FloKNgH9uG+5vmc2r2KPUn56F39adWtP93UdewITSna3C6A9t2S2LbtDBmyPFYIIYQQQgghhBB/IhYnT3UGA7rCHLLzTYCJrKRUABSnIB4Y14U61nrIjGDnqmDOGLrx8IPWBP+wmUgTWDcdzmPNLzB7aSQ+vQbSs0kt7PW5RB/eyJp9V6lKDlZxbUHnRins/mk/FzOKUkQ5SdHkANjUoeOgAXTyc0bNieXU1g1sO5eG5tCEwWN70dDZGlXLJen8AYI3hxDv2qOonD9uJtIIDq3HMr3eUWauDsfSnJ9dk060KjzC/G3nSDIB5JFyNbboxfLKU97OVE86jX2ANm4GrEwpnNm8mq3hmVj59WLCoOa42uihIJVLh7cSvP8K2aorzQcN5T5/exRTHuc3LGBTRAEG7zYMGNCOBs4GTKnh7FizmTMpZbNWintzghzD2Lwqhz6jWtJgdwwRdzvRaV2fflP6owTPZ1OkgWYPjKPllWX8EebFQDPnJzYPrBsOYHJfP6ytVPKiDrB6zVHiCt1pO3IEXevaYaVTyE84w+ZVWwhL00B1pnHfIfRt7oV1YRpZikri2ZuLci+PPyExiX2HDjF8yGBCTp4q81rroCAOHDpEQmKSxftTHIPo3ceBk6v3kV72Faz9ejLEx4gx4Qjbdl/EyrcT7YLq4WhQyI0N4dCBs6QanfDr1pfm3vbolTwidy/jaEwFqWPFCiu9RkFuXlGCOT+djHxArUVgMzdiDy8hIqmo8vJTwjl6qBYDuzXH89xuEgBTwknOFjSnY/M4tp9MurOJXSGEEEIIIYQQQoi7yOLkaWboPg63GM7kR+py6sgRDp+4RGoBaOknWTHrJKDDo+sExnaoS+jmi1wy9aOBh0pkvEpdvzokXtyGrnk/+riGsfjHJaRZN2TIlD60PbeAvUmWp1N0nt54pF7hyk23xBvw6zWM1vlbmfdVOHmenRg9ehCt4xZzTHXC3Tqc5V9tJlJ1p9XQMYzomcJPmy8QYRyIn6dKZKyOOvU9iL0UbXHiFFTcvT3JvXKQlJtW1FVQnvJ2Z0rgwKLZHAAM9fowtV8rTkbsId3BHbeYTXy94hyac0MGjBvGgLSfWZXSgs51o1g9cxtRhTp0qhHU2nS9vwVZGxfwXVQh7p3HML57AOGrz3P9oQY66gQ1Q3d2NVfj8ziT9hAtA22ICL2DS4l1/gx88in6aYCWypHFv7EnLpJdwZeY3L8HTQ/Z0d3mGEuOpWBybmj+/ARfJu/8Jmaf10BxpPWYyXQJOMWKc9Y4uxdwbOE37Em0xq//QwzpXJ/wjZHYBvVjQO0rLJu5iGiTGx3HTMbn5sLd/eO/QcjxE9StU4e6dWoTFR0DQN06tUlNSyv3dv6iotaj3YiJtAYwJRO6aSPh5b5ZI+/iDtYdvIoJUBxb0KWFStjmP4jOs8PvvqG09I1kZ4QNTq4aEZsXciYVFKWS5aCmOM6fiKdH15H0iTpL+NlQriTnohnccLFNJjKx7BVjTIol1aoFrvYKCQBaFpEH9+PUvwfNYtdw2pIKE0IIIYQQQgghhKgBLH/maU4kO+b/yIkGTWndvh/T2kezYeF6zls1oXe/Dvi7WGHS2WMXa4tiDCfsgp4+Aa7sTrInoF4K5/fkUPu++jjW9WDsI50ABb2VQqGTCklVuGFaATQzyVbVE/8GeZxdcYF0owaxxwiJ7UjT+tYci6LoPmYNKEji5MEwOt3viye7OHteZXAjD3YlGKhfO4mI7TmWl+VaccytpauoPNHl7MzgRet+vWhX1wFVM+BgHY6tAunFh6wBxrRwDpzoxCT/2iibLxNRMJh+g3I4cPgEYbHZKO4N8HV1xX7IJBoC6AwoKY7YK5B/rZh6H5o3zufskgRMGoSFJtG1eSB2oaeo2tFXwBjBxu9uvm0/7/IuNkdOZVz/bLb/vJZkU1Edmj0/aiQZft0Z0L0h7tag2hpIv2Bd9P5rtFwiL8aib+eCDVHUblCH5DObiM7V0EgjPVu7OXl6L47fjE1btvJ/Mx4pSZ42btSImbN+qngj4xWOrCh7277iaNnnGbx8cLN3o1X/kbQCFJ1KfrJ9cf1pJf+Zu5zKMpFxYSsboj3w8W9Ko96jCAwLZscFy8oBQO4Vjh+uR9+ObYkLqcJ2QgghhBBCCCGEENXI8uQpgJZPyqXjbLt0geRxj9Cx+VH0Pn3wilzMz4sT0Jo8wDNNFcBIdGg4hn4N8Yp1xDc1jH3pGt6KiYSDS5i/P+WWb901JiWQ4upDHTtIyqr8/Yq5P2omQEHBRPSpUIwjmuFzwUj9zAsczqhKyUwkJyRjH+SDs3KVFAs2NVue4ldcWvWhu91pFvx0gjS7Noyf7GH2nZqmgaJAXiTbfvkVn6Zt6TpiGm0O/86ii0B+OBvnrCO80OzmWNVvRmNHVxj7eNGKRtUKg7VGY8fT3PW8ls4JL0+NlAwH6td15GBS2s3vuXZ+dL70GBxA8oqFLIsqoP7AR+lqbp+FhRQqKmp5ifUbVNfx5+Xf/INm5v52qzS0GxqYgin+MFu2lV51DKi1LNqfoqpopuv1acpJ5MrpXUQndGLAfU2pFXaW1Jw2eHpYcfHq9Sy5zt0Ll4JkLmRpUCrRWxBzhJDEYbRplodOuXJLxyiEEEIIIYQQQghxL6mWvlHv5kNdFwMKoNo642ILBXkmdKpCQW4uRoqTesWM0ac4ozRnYE9fEk6GkaGZiLkUjVtQe/wddICCwdYGXRULrCWd5vCV2tw3uD117Yv2Y+XohYddIhcjrWnSLgBHVcHauw2ta8cRcSWvaEMrOxztVFDt8QsKxCoqkgQTaIknCUlrTN9+DckKDSOtilndzLNHOOvQkSE9/HC2AtBj7+mJs5pQfnlMJjSDDdY6yvxb1enQ8nLIMxXVZemiqHaOOOpBsalNUBMXoi/HYtRZY6NmcvXUTtbtT8Tb1xtDaiSRuX60a+OJAUBni62hdIkN+DbzI3XnfL75bibffTeT776ZQ/AVb5o1ckQpp2x3hopHh/4EJW9lwR8H0XXpS0un4myfufOjqai6QvJyC9DQyrQv84xcjYjCrVVHApyK2sbN2erqPP47TzNpqAYDejQKcvPRO7lgq4Cq11MYH026R1MaeRat1lUM1liVn70HFOw9vHHQK6B3xaeOE5lpaWiKHa613IrrQY+tgz16YwGFxgTCQ5Pxbt8df3cbVBQMLoG07eBP7tnTJNy0oDyP2JDDpDp6lvqhKyGEEEIIIYQQQoiay8KVpwoO3s3p1aMhtRysUIxZxIVtYeOpeNITDtFw8CSe6m6i0AiZ508UJf20JE6eyKRzlxR2ni+6GTrzVDBr3AbS9+GnGKaayIvaw+9Lj5FclYSllsGpNUvQ9erFkEe746SHwuxETm9ZzqbtazgxeADTn7+/6AeaNm3gWKoGrqBY+dBt0pMMsIWsq8dYuyaiaDWelsHpgxF0GenMsbCMqq+IzY0g+PdN9OjTiynPjMBAIbkpEexasY4T5ZRHUyMIjW/DoP4BzNpw7d/+zN6xlzMP9OXRp/tRWGhCyzhJQXGBVI82jH2iG/a6POJPbWLN6SxUz46MHNUedxW0/AQObYwg15jD7lV7GTBwFE92s0IzZnJqzQK2XCxeGWjdgKZ+6Zzbk1rqWLMID4umT8tGOIWYK1sAs9ZdqMKzYAFdIEOeeY5Bxf/XlHKExcvT6dYqi70LIsjOUtl8vDljejXk/K5yzk+hnoM7mzF03OO01QoxYuTKFWOF5yj7zCZWuw6g37SnGaZqaAWpHD9S6pme9+r4y5Gfl4+nh3uVfiCqIgVxF4hp3oEOAdHsuXKK84E96T+mDcaUE+zafJqDhxxo33U0DxgUTHmRHAveyZVyF7va4FS/HW16u2OjFpIRdYTDFzLRdF54NetKoKcjBp1GQUYMF/aHkGjS0M5vY5fWnqDODxBkZ4UxJ5m48M3sCUvBhJlvZ/Iuc+L4Fbwa3ZHDF0IIIYQQQgghhLirFG/vOuXmonx9A+5lWQC4dOnmBynebjkU145MGufEjh83E3nTb+PocG01nBF1jrNwfQR596A8VWUTNIr/8z/J1yvPUYWnw941d7pOKj4/Nc+lSxcICgri5MmT2Ns7kpV/Y6spn7XBwKgHR5Cbm0u9uj58+e33d7GkQgghhBBCCCGEEOJ2VO2Zp38xts3uZ2rv+hgTQti4+ubEqRB3Wl5+Pgt/X0zP7t2wsbGp7uIIIYQQQgghhBBCiAr8LVae3o6aVp6a4O9eJ7ez8lQIIYQQQgghhBBC/HlY/INRQojrTp48Wd1FEEIIIYQQQgghhBB3mSRPhRBCCCGEEEIIIYQQwowKk6dG4739eaLyPu9el6Oyz62u8tQEf/c6+bscpxBCCCGEEEIIIYSo5AejUlKScHV1R6fT3fWCGI1GUlKSqr0cNbU8NcHfvU7KO357g3U1lEYIIYQQQgghhBBC3G0V/mCUEEIIIYQQQgghhBBC/F3p/06/ki6EEEIIIYQQQgghhBCWkpWnQgghhBBCCCGEEEIIYUaFPxglhBBCCCGEEEIIIYQQf1eSPBVCCCGEEEIIIYQQQggzJHkqhBBCCCGEEEIIIYQQZkjyVAghhBBCCCGEEEIIIcyQ5KkQQgghhBBCCCGEEEKYIclTIYQQQgghhBBCCCGEMEOSp0IIIYQQQgghhBBCCGGGJE+FEEIIIYQQQgghhBDCDEmeCiGEEEIIIYQQQgghhBmSPBVCCCGEEEIIIYQQQggzJHkqhBBCCCGEEEIIIYQQZtxi8tSFCYMOEDF5PXv7DsdbKfuqg9fD/DpmA8fGfcFUp5qUn1Wo1XQmYf0GYFPdRRG3R23H++MX8bK77g7u1MCQPjtZ0sxLvlW4KxScG31J2MChOFV3UWoIndMUVj/0Dn2lwf0lGOr/m5PDJtNAAdQg3hqzjDc9b72PsvJ6krUTgjk88r9MdLFwP0odRvSYz4GJ69nWpRNWt/zpd8Fd6bfFnWWgX8/NrGpZV+Jgtfqrx0s97TstZ0eH5uiruyjijrqluIUVTZp+zJYJwRwcNoNWNarzkbnBX11lY/EyYztxm/7qsU381VkeB9TGvDJyAc+7Xtsknx37RtN1yypitdJvtKJj44n4XHqJjr8/z7x0EwC2/p8Q2qcvtk5TWDnqmeLAqKdr1/VEPbqe/9W1v/5R9uNZOu1rxlnX9F7Kivu6r2NRUw9cG33B0R5dy5moGmjT4kP+GLmOsEeOENK9ogmt+X0qdqNZ/PBRLgx7CD+l9Hs3sKdTy3s8QbbsuFX78fwx7lW66IN4a/RsZjiqlJzzGbuZ29CN62dYR/N2f3BlxkFWtKhTMwcoJdeADf16buLnQHszb6q4bhTr/syccoTwgQ9Q656WS8W73mN8N3Q5J6cf4vLU9aztPZmONkrJ674t5xE54xgx1/57ZCmveZgf+Jq/ngGs8fd9kh+Gr+bU9ANcnraJ7UPe4rE6nujRyIlfyr9DT5ED6Fyms64KiUPz7elGFV0/147tCJHTgtnU7xG62dbIlnZHlH+OSqmg7ehsW/Nw92/ZOnEXlx7ZT+j4X5jVYRBNrO5mv6zg3vhbzt2nIVBQAAAgAElEQVTOoMqi66Hi/ulEuX15FWjRbDg2iw2ZWqVvLa9tF8R9x/2/Pcibye15OCDAoiSD6tCXh/0S+d+yIfTed4AC4M8RV27BHen7LNunwe8jLs44xLYOzTCUfu+obXxV32B+X3eLhW28wj5A8WbakP1cnfQeA+7Cibaov67kOO5GvLQsjljSZmxp3PBVfh+7lYiH93Jy7Eye9jR/hVZHvLyd/t/g9xHnx5SzTQ0kse5WYp0jYwbuIbiNP6VHeXrP59g99QMG6wClIS+O3FNqvyqedf9B8ORlfOZXG8MdjFuojRjVIohju0fQcfUsjhdNHc2fW6UhL448xNXJnzLS7vo5svX/hPMPTMO/pk8dLZxDKYbOvDbkdw5O3sPlR/ZwfNSX/LNBnXLi8p8gxt+BsVnUjGPEzDhK1MO7CBk7l586j6L9HRjHm3IPMvPQOsIqH67d1lzkmho7F9QP5KeHS80Di+dMB7u0NdtWamxsK7f+7Qlq8hbLxm7j4iMHOPfQKtYNfJYBdn+SYCdqhLvQWhTsDdbEZcZRaOEWufm2DG07ioAaH/BKU9EplhZYIzcrhD8O/4v3IhKxoG8uRwZ5LpN4tp4jf6qqMiMtLYkWAb3xKsndNWeUvxWXM0zVWq67S8G9wf30JoPCOkMY4nAvO2sFV1srzpz5N2P+GETHVR+w2+ERZnftg0vJezTSzr9Iozmd8J3TCd+54/kk0ViFz9Dh3/RTVvboTHzoGwxe2JMmv03h+dBY2vh1xAXIT93JgshLxQmde8wUwju/d6TeT51p+sdrrLeZwtftOv5JV6FXpf+pOsXQkX/d/zUzbA/xn/UjaD6vL/dt+JadVr0Y5FbNqwYVlT/FukUtiUPh6zmcc7t9Wi5XM1OxM9hb1O+rBnvs8mO5mm9ppPmTxhWL24ElfZ9lTPlZeDd5jAf/AgNtnWN/Rnrlkabex6h6TjXw3NfkeKni5f8vFravw869D9N54TCGbpvLvipd6zU8Xv5NSKyzlIp3/ddY1LsjR3Y8zssXYyqZ41UtboE9jvoUrmbmWlgeExm05dkWLbC2cIuaQYfews5WM11h49G3GLN0CEELHmTisQQG9HyDsVWOP3/SGG9Gctgz+P/UAf/5w3lg+0LCXB5l0dCX6Xmbi620/LOsPXeQqFufoFdBDY5thZv4v3nFc8A5nfBd8Dqrc2MIvnSqCnGo5sY269pPM7ujPwf3TaHV3B60X/EiH0RcJufPfmGIe+ouXLE69IqCplnaA2mkXvqV5TYTea6+mQG8rg/fTZnFw/bXiqqnY5dVbGnfFD2gc53Bxonv82TQh2x+aDfhkxbySWA9vH0eY/6YrYRPC2ZV5x7Xk3SAovNnQs/5HJq8izPjvuW1uu4lFWHl0INXBywmZOpezk9azE+t2+FetBW1ms7k3OBnebznj2wcvYKfmtQyH4gUT3q1fIaHPG2L/1BA6MVFLI48xsW825hIm8KYfzqCfm1G09DcmdMH8Xi/X9g7aRfh07az5/5XGOZ07buiottOlnccy7v3r+bs9F3sG/QInez8GdvjFw5P3cvZMZ8w3f36MKT8uijHTcddHo2c2A1sdRrI0OKgYe01mAE5waxKKzUcq/B4AFRcvKYxZ/QWwqdvZUvvUTTRXX/NvfZUvh+xnrDpezg99lveqO9d9A24Uou+Hb5l16SdhE3dzvGxs3iu1vXvxnX23Xh98EpCp+/h2ANvMNzst4q3QKnFkMD2xJ79mJkpLRjlX7fUwFjB0XMCM0dtJmxKMNsHPM5TPVeUuqXNnpZN/8XK8dsJn76Dg8P+yUiXilc7KYbWTO0wke62CmAk9Ny3fBNxlLOZScSl7OSLUwex8WiOb6nD07RC8oz5xf8VWPwFCACG7jzftjmH9r3A2+dPcCUvl5y8GEIuzuKJPetILH2rhtqKl3tPpbltf74Yt45D477lMY/7+HziYl4pdUuvaj+aRZO/Y5J9+efAyn0or7fuSb1Kg5+GSTNSaCogKyuEJZcv4ORUr3gy7ELPdl8SPH4b56bv5uTor3i1nmdxv1B07azqMo0PBs1jw+g17C/TLio+dzrXEXw5dDkhU/YQPmUdq+97kGblLMVQrIOY0XsBR6fuIXzyChZ17ksDtegzbu5/vFD1vjzY5Xt2T9rNhakbWd9rLC0NtzsKUAlo+gwPab/zxNa5bElJIqswi4TUA8zf+zpfxhUCVjTwfZFFY7dyftpOjo74LzO8rvXf7kwavIvZ/tfT0gbf/3Jm6AR8lGt99sf8o+2HLHtgEXvGL2Veq5Y4ATqXh/i2Qzvs67zE1gnrODDiSTro2/H++D/4rM0LzHvgd3Y/+BKjWs3lZL9BpZJfBjp3Wc3eLm0p96qwuH+6rqKyAig27Xl+4HJOT93OkZEfMNXd9npMKHPbvko9v5dZNGoDZ6buIWziQn5o2cri5J1J01AVC/shRYeqmbA40lQSV6xqv8K+kU/SvKS5+/HciA38z8eKW4kroOLp8yQLx2wmbGowG3o+SFP99dfK7bfVG9vBi3Qtp0pupe+zqKoy1vLj1SY83bKl2S9dKrrWqz5Wud0+vyIqDQOH0DzxZ946n06vhj0riO3llUPFO+Ajjoz9Z/HEVcG1/tvsm/Ahw+9EcrnCeGmgYaO3WTdxF2GTVrC40yTeG7GJz+pdGx9Uve7KxpFK2owawOTWnTh+6B2+i7pEfG4SlxP2cySzCuO7aomXKv5+M3jV0tWAZti5DufjYWsInbaH0PFz+KRRQ+yAsjFqJmseXM7BsT/yRl334j5RwcFjPN+P3My5qZvYPvAROpVZyVtBTCm59p/n52EL2DJuDZvLjPdulcQ6y+ip6/cWi3u2YPe2J3gjMgFLvlavUtxCRadolsctCthzejHZjR5jtLn2XuHcsbitDpzBpB6/cGTqXkJHf8w0d3fatCjqny9MXsTngXXLXCd6x778e+gqTk7dyeFhrzLM8dqrFcSta+PHrtP4cPACto39kafLS8rfeN4Kr3Is9hyXs9NIz0skMj2eDF0t6lbav9/gduaOajveH7+YD1r8H7+M2Ub4tPWs6NSDOo59eHfoas5O383BwTPoVDLurKguyjlsi+MWoJkoNBnJL0jhcnwwH29+nQWM4OXG9dFRUQx2Z8LAbSxp7n098aH489yIzXzn53DTbfsVju1uV42eC5ooKDUHdPAZSI/cYJbG5Vt+fDU2tql4uDXEPTmYBVFXSDfmk54Vzq7zK9mVZaLicXpl8U38nVg+wjXFsuHobDZlVZwUVQxBtHfNIToro8wKy4KExbx5NpSC3H18c2QLV0pFSK3wON+HhNGrzTia3MKYW7XuwUDrpUz8rRddd4bSpcv3zG2czSer+tNs6dfE+7/E46Vup7L2GUTLK6/RfX5fBh5MZFivf/KgnQJqI57q9y+6pXzCoAXdCVr5HQkB7/Mff9eSi8PauzMeYf9g0JLhTAuNJuz8l/wQk0FW3CLeOx9eNKBQ3OjYaAL3u9ncwkVl5Jy5fRbVFNHnZ7HYajzPN3A2s+9CIi/+j9G/96Lh/Am8l9qBj7oNo3bJG/W09WvFmT3jaD5/OvN0U/h+6EsEXXmN7r8MZNKlOrzSfhCeUEldlFPGG47blHeQmYfWc8EUxZoj89iZe71FaIUhLLvsxnD/euiwpWtgNyIvbOKqVoXjURowtIGJ79cMpMlvr7DT9VneDCzqyFTHkXzb937SQmbQZm4v+uw+Q6ce7zDZUcWq1mTe873K20t703heX7qv/5JNJZMePW0DOnL5wEO0mDeSN1M78++23bGHUtdAAWfOfcbP8XlVOn+q4wBGe11ldfgmVkScp1ngQBpeOxZ9W17p8zD2Z5+g3fxBjDyhY4Bv7eILVMHd7w3mtrTlt41DaTxvOI9d8uGN3tNpoZZfLsWqCcNbDKGN2W9krWlRqyH5yWFcLnUtOtR/je0Tgzk46gc+bdEWj3IasLnr2cq9E12sjrEmMsnM6uob/mI6zv+2zeN0ziae/30IHX5/ih8T97P0sh1DA5oW316h4uM3iBZx69iQZSq3Pemde/Fok/bFz16u6Pq5RsFg25wH6vsSlXCGpOK/5aSs4MVVg2k6dwAPnshi5H3PM7BkTKKntY8XG7ZPZ9CSMTwZ04r3rrWLCs8dKCSz88gz3LegO03/eIvdLs/xWYsAMytKnBnY5X88abWSh37rQdOlHxJa+y1mtmxYMhgo2/+k07nDF7ztvJdnl/Si0cInmKtOZmaHDtiVc45uYrbtuNK5TgBRkVs4dVPlaWiA3nUS393XgbC942g2bzATw2x4ou8rDLLw23/VtiNt82YyYeV4eqyei6nFP5jirGJM/ZWnDh0hK/pT+vw2hE4rvuOQCVB86eMRwb/WjKP7sk9YcmEdod6DGHBtsK1vy0jfAtaGnyC/vOu0Cv2TJWUFZwZ3+S8PFf7EsF970yV4M40De+BQXhXkn+KHLeNo/UsPOgavwyHofV70LmpgFZfFRGJWIq4eLfGvNONhhU+t5njnxBJX5nBuJ65UpgpxBUBpwLD6uXy6agBNF73Iesdn+K5Nc6youN8u2rZ0O/iUXYV3ru8rUWE/n0bwsd9IDXyMsWZWi1R2rVs+VrkzfX65fYDalAcD6nP0wgZWh28mvvb9DDE7KamoHCZiL3zMm/Hd+KhzDzzsevNe144c2PsRq7PL768treuK4qXebSrfdPJjy5ahNPv1Id7N6sgDJQmJiuvOsjhyo7JtRrFpRXunqyQ7v8i6ibsJn7KaFT2G06Sc67M64qX5c6+jrs8YHq5f/Dxbi8Y0pejb8Er/FwiI+iddf7mPLlv34Nvpf7zmff3LEWvv9jiceYlhy0cyYP9VhnedQju1eNs+j+J6/ina/TKI0SdtuN/vepysNKYovvR0CeXNtZPo+8fTLHF4ijeKx3sS6+5MrDNPR13/d1jcLYD1W57knaikkgTnnYtbYOvaihb6BK7mlC1bRee2MGUxn18J5MmWbbiVNLF1nX40jXyNbr8MZMrlurw+YCbPFvfPnXecpmOnx+hdUnY9bQPac37PeFrOf5AXE1rzUc9x+CsWxC30tKlXn207ptJ78SN8mZRv0RwKAMWXx4ds5MTkXZwe8Sg+V39jSYq51PVdnDsq9Rnsk8Wnq/rRbOn3JAb+i6W97uPM7vE0nz+NOepDvNW0KHlZYV1YGLeq1F4LT7E+Kpmm3i2wp6IYnExwRAhN/fpSt/i4dK79GWa/j5VRmTfstOKxnWXl+3PPBYs2rMWQRh24emE9J8r5VqPGxjaz9W8iPuEEVz0m8O+2D9C3li8eNy4Dr2CcDhXEN/G3UoVTnsaJS9s5Xe6tgCqBLWZyYtJ3jMj8ie+vlv2WojDjIEujoynMP8+mS2dILvOqidgLs1ikH8vzvq5Vnrxpxv3MPn6IeFMh8VGb2WfScezs7xzPM5KfsZV1Ce40c7u+qrUgaQVfX7xKHvlcuTSLX9I7MrSOIwbPoYyx28FnRw8SazSRm7GDz89coodf25LAnJ+wkjlx6cWXv4nYuI1sS80jP20/K2LjiwYVpjA+XtKViWEpt3CLfjn7LDnWE/x4/DTd20y8vhLomsJQ1l84SXSBEc0Yw6YTKznv0YagkvcZOR8+l6Wp2RgLI1hzORynrB18ezmaXC2DkIt7iHFphL8KVhXWhYXHXRjBlogTxJtSOHZxF2EFZdLpHA/fip3fQBpbd2GUTzjLLiWW/da5suPRkll/4lcO5RZSmHuMZZFxBLg1QI+Kr/9wWsfN5YNLUWRrBcRF/8wPMY0YVNcdTAUYrbxp5lYXF9VIRsYpzmSXDAcJPz+HRcmZGE1xBIcfwOjaCB8Frl8DRqJj1rMz3dy6zPLOn0rDgMG0SA1mVUoBkREbOO48mAc9ikZmVp79GKhs4tvQ82RqJpJj5zE7Kqd4ny70b9yDyNNfsTglE6MpjZDTc1hv3ZP+zmq55TJlLWLUz5P4OvXGqKfiWe8ffBIYw6eHtpBSVJmkxMzl6c0vMGn1Yzx+NASfVl8yq7mv2dvGzF3PisEZp8IUkqq0XLW0fA6Eb0HxHURbHaDUY1iAH3vDdxUlOMtpTzkR/yBg0adFE4+Krh+1De+NP0LMjKNcnjSP52238NHp0OLbRlI4GLGNU9m5GLVswsMXsDKvOZ1cr42cjYSG/8HuXBOQw8mrIRQWt4uKzx0UpuxkaUwU6SaNgpwjfH8mBD/vIJxvPHx9e4bXS+e3I8sIzTdRkL2fz48fpIF/75KBVZn+R9+e8QFGfj+8kKO5hRgLIlhybBUZ9XrTWq2sz73GTNtRnHCzhpSc1HJWgagE+PbHP3oun0YlUKBlcTZsJr/l9WBEHcumMFr+XuaHXSIPMGUfZGdqfZq5VjDD0hLZcHodl4wAGqbMLSxLaMGIBh4ogH2dwfTP28SKpELzxwRV7J8sKKu+PcPqprDo2HoiCjXyM7fxReipclbkmLhydT3bUtPI10ykJS5m9hVr2nnVKbq+KiyLRtyFOczXz2Dz5I18419OglPXnY8mbGNXp9qsPLaKy2UO5zbiSqUsjytFMgg+MZ8jeSZMeaf44fgOXHz70lytuN9W4KZ2cGf6vhtV3M+b0pbw+eUGPNGqPTc+Uayya93yscqd6fPL6wMMXkN4wD6EFZfiyE8KZnVmS0b5m3vWeGXlSGLD/g/Z7f0GS4a8Rtuo//LO5apcX+XVdUXxUiXQtzc+V+czMy4No5bF6dAFrCuZwFZSZoviSMVtRjU44aJryv3ekby7oi/Nl/ybQ+4v82PbILPPhauOeGn+3Bewc/cAGm/bQX6F9W+elecAhug38+WJE6SYjKTGz+eLCGuGBFx/dmJ+7Ap+SchCQyM1eh8nbBvSxFrByrM/g3Rb+PpMGBmakcToOcy+ei1Za0FM0WJZG7qFqybAdIVd0fEEujVAX+6x3khiXWWxzjwVv9odcE/dysr41LJzmjsRt3BndN9gTo+YjHL6J9bekIiq+NxmsDVkIYmBjzHhFu4Qy49fyteRRXHq2MU9xFhFsOxEUf+cELWZfZo/zUq+JDMRdeFnfk3JRjMlsevYAg6696Ofg77yuIWJ8+GL2JJtLK6ZKswdtSvM3zqRASse5pEDf7A2+gLJZhvrXZw7aimsP7moOE5tYV28LdnRv7I0Nas45l8gwM0fXSVzL8XSeF2l9moiJTcNxeCIo1JRDNZIjtzIPpf+DHFUAR3N/PvhdmUDu268d7yysZ1F5fuzzgVLverYn9G1wlkSfqHcleY1N7aZr/+C+O8YH7yQK24jeKf/Qo5N3sCq7sOL736qZJxO+fFN/L3cwR+5NBF+6v9ofaEPn494gcm1lvB2bBWuHONpZoUcZ3Obh2i5KbFKn6wVpHH9i7h8co1ppJXcHl9ArlFDr1qVBG5TdqlVOVoC0dkK7nZO6Apr4W3dkY9Gtb3+HA7Vnvwk+5JJkik3hZR78kyU8mjEXZjFr0Ff84L/cn4p/ZLelxHtnuOxBk3w1msYscNDf5jrz1PXSM1JL+7ANfKNBRjzUkktPh7NmE+B6ly0Asi24rrIvgNHUpi8gdV8yPQ2TWkfv5Z/5mrcb+nxaABpJOVeO/EaecYCDDZWgIqXvSe2tZ9h7dgZJbvT6QuJTnTAlPAzzxx9kpc6zuRZJwi/soQP9//MrmwAEyk5adcHHaZ88lQDViWfeYvUxjwY4M+Zc69xQQNT1jZWxD3Dk4Et+TThKIqNG845Z4gv+Yw84rKLz5XiTm07a5q1/I6dza69QYeNLpflBhWqcKMTKLjWeYZfejRi3ZZnmFvymASNtITtrLv2towf+Id9e3b496Du6Us3JGLM0/LTSNd74a4HqnCHR2kFCetYbfyUEV5fcSRnACMc9vFZVNptVX0J0zHe/uNRZmWY0Fl506XVh8wc8AiRq2Zx2mRPyybP8XqzLjSy0WPSdDjaKqwq+VZSIyM/63o5TIUUFLcLtaJzB+gdevB8p0d4oJY3dpgw6VywSd2PrQJppYqnGFzx0CWwJ+v6+czJiiXFxgN3BZIo2/8ohlp4GWrTs+8ShpZ8tgEH9WD5qx8toaWTnA+uti6oxJhpXSruti6kZsVTkiI2xXElS0cnW0dUCx72oBVmUvJ4Y62QApMOg1rR5CedpDKPPElmY/gxXmvShzpha2kd2I2YiBmcvQuPTC6vrIrBFXc1jm0l58tEfEYs5tduKbjXnsTbbYfT2dkRnWbCyuBM8mlL7k5QcK4/gQnaQoYv+JZj5U0kjLt59bd+zGv9PUta9OXLK8uItfwoy48rFmxraVwp+kMyMdnXZyuF2XEkWXvjhoptBf12Ueu4sR1URXl9XxVpWWw/voCYBx5n4ulPyrxU2bVu8VhFcbyDff6NbOga2A+3mG8JztaAc6yKuMwTgYMIPDWbc6WblwWxR8s9wO+XchjXIptPtuwn9TZKVqLCeHkCNxtnUrMSrocZUwIx2SZ8LSyz5cy3Ga0gm2wtg+CT89ifnQ8c4pszR5neojMBh05y9q8QL81QbVxxyT5HTEkVFhKdmYizp2vJ5NJUkEnGtZe1Qgo0KwyqgmrjinN2aKltc4jKTC1JKFQcUwCyyCjp+zQKTEYMutv8uZu/dawzYdK46bZ6RVVRNVOpNlTA7kOvcjrwPyzok8G4LUs5b9Gj8C2MWySxZMsggms/z8q+4+l14iTrq/AgRGPaMj67OJaPW3dmTbTl2wGYbohTeTf2zyY9Bl3JzJG4rMSSJJJWkEBsvgueNroK5xsqaYCJ5NLziioxkp2bRHZuErGnltNixBe8mjKS165WtdO4xblj8VwruUycMpJyQ8xXdVaolcy9VCx73EPVqLjaOGPKzyBDqzgGJ+ftYWXMP/g/v/rMOunAcD97Nu89TDaUWSRStbFdVYtb0+eCJQWlYcAQmsYv54kq/hZJzY5thcREL+Lt6EWAHlf3+3m/3z/5tlUYA46cw7mScXp58e32EgTiz+YOJk+LGHMOsjPJlQedHVBiU6vQnDQSImbxS9C3vBi4qlRHVkCBSYe+JL6rOBjsUG/jKcOqnRdeCkRogOJJHTuN5Jx0jLmJxGev4/kln3Dgpr5CuXO/iHe7TGeZHXKYzW0ncTJBoSi7qVKn0ev8x/Mwk1e9wtHcAlSHiSwb1fbWPqLCurhDtEusishmW4cgVm56k3St7PNMb/14TCRmJ5F2ZQ4Dt20ly8w7jp/9iClnP8LKpgmT7vuKL9qcpPOekDt0YDcz1BrCCBcrvFrP4VjLor9ZWVnj6DKYLoeOsjc3mTRbL2pda5dY42XnhJoOaCnE5+Ry5MwjTDxr7jYISym41H6K+b07sW/7k3wcm17hvgpNhaDoLP7BgoKkA+wreIf767uzPPzGcppJEWnAjT96ZDrP8gsp/BbYmRXZ/XGP/IKdtxh8K2IsiGXf+R1EBt1Hd/ufCLOaxGftajF/3UQmp2RQqDbltZFfVPyM32tFrujc4cDgTu8yKOt1xiw+SKxRwyHwM440ubk+tPwUkkye+NirUPylgI29F665F0gyc6K0/CQSCy4yZ+NkvrzpG+XbkcL+qxd4N7APzY6GcqLMaFdBwURSTiou7rWw5Vr340Vdu0KScjMwoSffBHr1esuxsbKzONhoZlvljX/TSLmyll2dpjDMI5MOdS6z4tDluzAwL1/R+XLGw0aBPA1QcLJ1Mf8cOrU9L/UaCweeoPfFKLI1K3r2WMO/LLrPQqGOsw/Z8Ys5VemKoVzOXT1GQiNf6qkQW5VmYTauAMZ8ClX99eSnYo/D7fwKteJGbTsrKD5bejsv3POSScZEVkX9turGrQ9Qq9b3VcaUvoLPIibyRevubCipCsuv9UrdsT7fDEMXRvt6YKt/kS2Tni36m84Bg34QI91/5sPS311bUA4bj+m8F5jCykuOTOv4AMuDlxN5mwWuOF6GEJebhouLJwau9T8e1L72i8v3IF6aciI4l2sq+9zbKn7Qnylelnxcbgqpdt54qxQn0PTUcfAgLSel0r7XlJtCqrUrriXzTD1uNo6omUClMeVu+TvHunwSc3LwdPDCiuu3FNvY18YtL7bMmEPLD+HT4H9gNegTFvYuYNzWVURUelKqErdMpMcd4Jj2OAF2KqRV5Yxnsev4Ai6PeIzJWaXXzt3puaNKLXsPdMVJdsXKE29DKhdzjZXMNyp+HmWVKW40cHRAIbnqfdtdnztWPve64/TNGVjXjbNhp8jCgSEVxuAMtl84wPut+9E03okhuh28HHtzSrRKY7sq+tPMBdUmjAzwYd+JLcT8ZWNbISlJa5kXOYPf3HwxqE63MU4Xfyd34UkNBeSbtDKDCYuZzjEn5CBBzUdS0teZLnI6rT7d63iiA6wcBzGp7u39MqyV+wie8q2DAQM+DR5hitMh1lzNID9+LUvyB/Jam8746BVQrPFw7Uhfzyo+SsDMw9oV1QqDzhorFfh/9u46Psvq/+P4667BmjFidHe3dCMlIqggIYJf9Cd2ISZigNjdhaCg0i3dDQOk2QYbMWCMFes7fn8sgHFtuzdAUd/Px8M/HHdc17nOOZ9zPvd1nWOyUtTigc2c8alm78HMGjmNR4u5ezlcRB//jin223iwkk/2X4vaPLEnh3MsJR3wpnGt3jQq5BVOL0xZFHiReifHD73CXUseYdLJq8Ns4c/HSVjYfA6WHc0LlSvhawKzxZ+qQR1o4W3GVqwN/UqXxccM6WkXiEpLw+Eq/FA0/+tXlNbVuxFw6h16zRxEt9kZ/3Wc/QZ/WDpzZzlv0qNWsdzVnTG1q+ONmeJBI/hf+axyvMCyw5uo2fApBgX6Y8WEzaMMTSu3pGoeFfPKRcJN+JV+kJ+6dObQxqd550wSHhYPPCyWjE7AFEiLqp1p6heIn82fimXu5vWG9Qk7sTljImyuxdg7N/FLrTyuf9oGPgw+QMvW7/Jq9RfpAhQAACAASURBVAaU8yhCUY8gGlUZzRdte1Mix8udaXHEW8pQyfPycnMSGrqEiAqPMam6J0tDduR7l7P7G0aZMJssWM0WPDzK0a5mZ2qkneBYihOTzRtP+1nCLiZgx0xg2Tvo6+9eH5b3tbPhY7NwIT6cKIcLLFUYXLOZ4WYz2Hcw/4Q/g5r0o4bNhM2rJU80bEXEsdUcNRq82LcxI8yH4a2G0MLLA7Dg7VWLLuVr4GPw8qzj6dBuGYc7d8xjIOgk9NAn/GwazBedh9M5IBAvqxcli7VkWOuJPF7aTOjxlRwvey+PlQvEhhc1aj7APZ6bmHc6GUjk8IWz1CvXPGOhdWsNhtVq7uaOuC6SUuOxe5enQn5tPW0LM08EMbzDKFpfWMrC/DZrud6baNh3sPBkaQbUaoAvgLUmQ2vmsomHyRNfSwIRcWdJcoHNpztDKgS4GYBNWM0W0p05Zn25tUlnOulmWyF+GTWOK/b4o4R4NqGtX8Zd/SXLD6Cv37Xs1OJL9wZDaVLEjNmjLqMbdiTu+Cr2O/PutwuiQH0f4Fn1XUIHP00Lt78mmU17phBScSgDvLNKvwBtPV/Xo883fAUBFfrQ1bWMx2cNzI5F3X4fwRtng+hXrX6Ox87zOQ5rQ57scBdxweN5Yu0EfvUaw9t1KuZZ9/Iv6/zipSch4Ws4XW4Y/1faH4vJm3p1htM7+5wLV3ZXxpF86oxzN7+HXKBz/aE0L2rD5tmUh+o24dSJLYTe1PGyIBtGWfCweFAk+z8bzqjlLLV349H69fA3mfEvOZTHqqaxOOzPfHdNTo9awTK6MKR8Rr9n8+vDsPI+2Y815x1TCkOxLu9Yl87OY6tJrTSKR8uVxcdsxc+vA083vIWo46uuWuPQmbKDSUvHsdjvaX7p2IuK+faVucStXK9LOmlO62XJTvc5E+bxQUgAo+pdFn+v+9zRTIVqIxgc4IXJXJy2jYfS8sIqll+0X7e4lfO6WQN7cF+lelTx8sGnaCU6Nnyce/2PseVsxo1JBY9bN3ruWLgYXqANo0xmrGYLNqs/FUt246muE7mXebx7OAKHGzE44dQfrPHuxStNu8HxZWw3mvoVZGx3mWuPbTfBXDCTR+k+3O65mZnhOZYf/EfHNhOBFUYyrvYt1PH2o4i5KKVL9mNkpUBCokJIvaZxuvyXXPc7TzN2tL76URB33xsT/i3fNerK88Wz/nSK6Vun0qbDd6ypG835izvYHHk24/GsQko9tYz9Fd9mY7tK+KTt46e1rzAnyQUc5KNlr0Lrx1gwpBK+pmSiYncza+ckVhXkCzIX/W6cOo1fopJxYaF+0+ksbpLVqD/lSG0HobtH0Gn7fvAuTamkfQQXZKdWZwg/BK9jRPfe2YPPY4c/ZVrZcSwaOJTIlHiOnd7Pn0537p0z+vxClMVV550/V1oE2w0ftbm283HEz2TMyiK82vIztnYqhsURR0TUKj7auAE8anBX25d4y9cPiyuJk2dm8cy2YNIL2RzM+V0/WysGVrLyx4aFHEq6fGHyJfwQNpqva7SjWPgyJq+ewrsdvia4uZ3TZ2cx6/hZ7nA5ybgr+3VGeDzB+K6zec3Lg/S0SPaf+oXxEeR6x0vWIuFrjs5gQ7KVlrUH09zLnxbdFzM08zXO5NkM+eV11rqsBJW5l3Gta1C+qAcpySFsPPIC9+8+nPFgmrkkZYqEs+t8Qh7X1UHYgafpn3w/zzWcyPL2pShijyL03Dqm7p5NLFyxRqAreS3fHr6NyQPX8ZwrhM8WjuLjGCfOiyuYfeERJvn+zlg3dnjM2OgjkhV713Iir0pnbsyrg7bxKi6cjkROX9jIR6s+ZEU6OM/9wpsn3uStO2YQnRhHdMxudsS6+VivfUce1y6WBTu/oVuHb1hd8xxnU0+zMXofySWNPiiOpZvGUrHtc/w25Fl8nefZFTKRh/YexW44TElk/dbHeK3ZM7x9x4NUsDpISApl86GP2HYyt4P1Isjbyt4TR/N84NCVuo0Jix4jvNkDjO/9IFWKuLiQcIRNodN4/4IDe/pPjNlQjLfazuKgt4WE2I18vWIyS1JcgIO9+95jVuexLL1zNOeSw1lxLphkN2/dTz39G1/VeZ3fhw/FlDSHkXPW5vLKFDYfXY2lZn927VuV/6/jheif8hbH4s2vULvjiywekEhU6jm2nN1BgtF5Orbw8bZufNLtN3okRRGbtJ/d56Ko4eY3mU0mXK4c/UsubdLlcuDCVLgB31VxBVwpy3lrexs+7TmT/snRREZtZmNMoRezAlc4C0948Wy/ZTTzgvDwz3k4eF9G8iWvfrsACtT3Oc0E+ZQgPmoZoQUJwRcX8N6RYcxuEJD5l4K09fxcjz7f6EWB9KrRigtHH2FhfPRlT9RdYPqBjTzcqg+37Dzo5nF4c0vzlxmU+Bn9DkZgd8EH639jzq0vM/L0Q3xj2H+6UdZuxEufFVN4dFtZPuy2kAdM0ewJmcXCC7Uo4ip82V0ZR2z51Jk0du56jjdbv8gXg/6PEq4odoe9zejgzCTiTRsvMzfVsB3hg9DQPF9pLTaC+feNuPQH55+89vt9TF7xMRPavcPWJv6QepRF259lcmQKhncUXc6+i7dXz+Dddt+zvHE0sSmH2Hk6kgpZ/xyTR0wpVGemWJdfrLt48kNGbnuCCW1/ZoyvD87UCLaFTmLUzt2Gjyi7UrYwYelLePR6k+nt07l7/YqMNWhzYRi3cr0uLpwuE5ZCZTdT2Lr3B4JrvkKH7I+73nNHO7tCd1Gn7Qz2BhYjLWYJz6+ZkXF34HWKWzmvG6bitGv8CM8EBOFvTibywjamr3yWz2MydgYvTNy60XPHPOdeuZ12vnHrkuK1PiGslhO7PZHzF0PYEfEtd6+dx65UF27F4PTtzI3wY1rNRL7YntuPPgUY22W7PrHtb58LOgE8aVu9K0Ui3mRVao4P/UfHNhcpKQkE1H2EH1tWp6yHiaSkMLaEvMJDf4bicJy4pnG6/HeYgoLKFmIO6c+Arr/zcslEYs9+yz1rFnEm+1Os3NJ6Dh+Y36D7xq3k3MNOcjJTueEXTHa+zj37Tt7Ax5PkxrhR18+H/t0WMjxyMHftP/O31wtrqceY0+AII1cupWArEheGJ107zOGlpCfpvuOgG6uK3Wxurmt3BWs73r2tAwsWTmTtNSx9crMw+w1n7u2N+PH3Z5ldoB2E/0FMgdzV/XeGnxlB/70nLq2lm0ubNHkNZPpdPVg2ewzfJ/yVCxn8U/lzV/dPqBp8P5PP/wsaxU3tBpW1pRWT736a6GX38Hb031/nFS9vAop1f69c4lau18VUlcdv/5p6f97F/4XG3FzjppuS4tbN5UZdj5trPqHYJlLo5GnebMX6Mbn9SNp5hfPZkqeYEv93N3eRm52ZMqVvoVT8dvYmQ6lyD/NjlyYsXDCSz67repY3P6tPf767/Xa2LLyfLwq09tXfRdfu7+FNi1Y/8kWRj+m0bv2/8oc6W+kxzOncC6+4FUxa+wnLk9ypT8Vo33QC42vUwBIxgR6bt+b7SK3IP4s/jcpXJerMbk47/Wja8G2m1DjIyFkfsuM/1uX+8+KlFNw/K9YVLm6ZKVv5KT5s3olKqfN4YNE37FF1lv8czSeyKLbJzeqGJE9FpKDMVKv9Ft81a0mQxYw99RDzdk7ktZDj12eHx38EC42b/8yv9fzZs3cco4L33PSThAy6dn81U5FefHX3i7RNWslLyyYwp4C7gYrIP5ipBH3bfcJrVcriZXKRELuOTzdO5qfzif+hPW//qfFSCkKxTuS/RPMJxTa52Sl5KiIiIiIiIiIiImJAm4iJiIiIiIiIiIiIGPgHJU9N+Nf8iMO39sXv7z4UuQmYqV7/U7YMWcraW4fT2Orm20xl6d9+KluHLGF161bYbugxFowlYDR/3PMC7f5BrfK/TNfr76R4IP8dHhVf58/bhlOpUDtRAwQysMt8gofM4/fmLSnm5rtMnm14uW/G+z6q6p/ffup/KfW//wDmZrwxeAbPBlrcfIP69b+Kxe9eFgx9la7/5PZjbsDLd83mpZLu1i/517O0Y9LdSwke/BOTqpTOkeSw0qzZFLYOXc/xe56j9T+57ovI38b9rsNUg6cGbCdydPCl/+6f+xcGLRfJ52bx+sF9JN+IjzfXYuyAaTwRUJRuHZfzQ3Vvw5d5Vn2Xg1264ul3L/MGPkqj7BIsQtXKY/iq3wL2jdxK+H3LWdP7ZR4oWxJ383qFYSk2ksXXOADK/ZwuZ6NDu8XMqFOCgJofsqt9G2yAteTjbBgxiV5XVANf7rp1I8uaVMUCYKlM/9afsXbYJiJGbWTf4OnMaNuHqlfMxMzUaforEf+bxyulr0xpGh+fk5B9j3DLr+NY7T+EwaXcS4Oafboyqsp53pndm85ZG6nkcu09qkzm2OjtrG5RF4/sD6jF2IGr+biiRy7fcPMwew/m90HP0dragJfv/JbRvvlUEksdnrljK6dGvE6PXJq18WdaadNmCSf/t4R3yntf8dpZ933CoCJ/7ZTbvfM2rs8mrzv57b7v8y+raz5Id/ob42PMYirSnS/v3UnIrbdT6i89LjNBFR7g875z+HPkdsJHLGFR5+G0LHrpOpuKNuGhLtPYOWIrESNXsPrWh+nqbVymufc/JvwCb+PVHr+w/d4tRIxaz64BH/F67foE5IgHBe0HC1tHvCqMZ///gq+Mg9nx8C+oNwDmxky4uwATxmuua//y2JZX+ZiD6NjoNWbftYKQUdsIGz6XOZ1H08P3Zu3/c7uO0cxa1Y8Wi+biXe8uOrj5q6Fv+bsZbvqN26ffzuNhcRnrif5L46V74yAzlRtOIeKKdj+LcSWM26LxZ95c8fJa24jFszGj2n3GqiHrOX7/Fg4O/olvWvSktq0w5+HmOP+ax+uAKYj7em/h1LDX6HHdfkXPO2Znsfh1Z3z3KWwevoWIUWvY1PdlhgZ6X/pxwlSSjs0+YNWwTYTft5wVXe+7Ir5eLvdYllf8BGfKNr7cvpjDLgocU9wdWxqW/xVzyZ1EjFjKsm6j6eBViI7edZqlwd+w9GLeq8+5U8cLW443jge3dl7D/IblC3+X07W0k799zp+P3M7NsYHnf+tFj+B4BtTtROkrmo2dnTtH0PaPXzmWWWWyr7sSqSLipgLOfdJYtrYHD4QmZv6/C4fDceVLTGYsLieOq9577dJi1zEt9gZ88DWzULXOe8xr7sfcLS/SK+II5wmgVtm+PFilJcVOL+L833ZsZiwmFw7X37W0rZk6jSbxdtm9PLXoBZbF2SnmW4s2ZX1yvKwuA6pVIDHNyW3VmzD57Db3Fsd2nuVkkidN3Byomz288Uo7w6k098rDmZZIUO0HuGP/U/zq1o6hNweL2VzAjTMsVK/7JD0dh4kqZFVJSfOkb9OBfHnqJ0K1kvINZiKwUh86k4C9bG96+yzgx4t/Vf00EeBp48CB1/n4XDgxtnqMavca37Y5TYdVK4nFgzbNJvKU70KG/zaSHY5KDO74GZ+0DqXtiqXEuPktRUvcz8997iZp/2RGbdxKSKqVoBJtGdKgK82O7mPFZfHgrxrOp598gyY/TMIEWIqPZlGf6nw24zkWpAM4sTvcuQYWrCYH9n9EG/kPxzZTSfp2/I73iu9k4sb7GX3uLOlFKtKq6j30rliOlfuP3ZBxzo1kT4zkDM3xtZogPb9yM+Nt88KVFMkZN4v4nxwv3eci7uhTtFm/kbTM/79qHOyGf0O8NHm0ZHyf9+ge9x0vLXmFLQkpePnUp2fdO+hZfAWHogryaRnt+a8a51t8uzOgdCpxjg4MrODH8rD4v2yzMbNnIK7IH3l0+wGOpwfQrskE3u3+CGG/T2azw0y5Wq/yVY0EJizuyZyLpbit7ft81TaS7iv/cLu/zTd+ph1i0ZHMF//lt5Sn8cearvwvNBlP7xY83vVtPm1xmDZr17m/MYzJjMUVzfaQJTfyQPMvx78zCNzA+XYGN+b8N+V4xkXsxTMk2rzxyf/FIiIFUuAbR5zONFIdaZf+YG7GG3ePw+vwJgIr3kI1y3aen/st5iYTeLFGQyp72khN2MW0ra/zzokonHjQu8sK/i/5e/b7d6aJTyDF0jczcdUk5mfuImnz7cjTrccwqEx5fJxxhIR/wgPrlxJf40O2VVlOiz8WklC0KY+0H8f9Zcvg6UonLn4hYxe/z5q03N6/hBMuG5UqP8rkln1p5mUlIXYDX2x+i2/PXuOgyaMdTzStx/bNd/JKSHTmZ0Wy+9g3PHQsY1RiKtKA/7V5jocqVsHPGcWOo5/w3LaVhDvBVmYs61pf5H9zP2e/EzBV4fHbv6D89tt49pQp9/JKbMCznUdQz9PGh4NakuI8xjd/PMbcMp+xofIB3kuqz4CSQUQe+pbYhsM4/cc9vB2dEfjM3nfyy4AuLJz9CLMMT8pM1Sr3c5d5Fe+FhmIvdOEUoVZgRU6Hv8bSmDjswLm4XcyNy/Gq0n3o57mZSVuTeaZ5b9pv28aKdHc+34UTE2Z3B38mC2aXE3endc6ERXwd25VHGjZk3pbdpFzxr2ZqNpnKdO+PuWVDxl2sJs87+OXutvz68zPMtWfU9dEXP2VvyeEMKlWMmMgfeWLdaio1e5WxVavjk7SJyate5IfozFSxyYdmDd9lQt0WlDdHsWHvazy5dy/xAHjTsM4zvN6oM/U8TVw4/wdvrX+X2bFpWAJGs7hXDVYcctG+ck1KXficrtuNz8kW2JdnKiQwbc9aTmT9+upzO+NrnOTdHYmM7+TuQ52XcxF7/GeWBQ3h8YpzeTw8Pse/m6lQ5WneadqVhj6+WNLDWbNvMs/t3UMsZB5/Jeb9aWVAw3ZUNkUwd8tzvJvci3faDKa1t50Dh15n9Nb1nHUB1src0eI5nq7WgDKWRI6Ef8dzm35nbx5JcaPzzk9e7TaDJ/XqvM7LjTtTw3Ke9Xte4dE9e4l3o5+7JqZS9K7enDOHJjKn7IsMrFqeqXsjMgfRJnxLDuadDvfT2dtJ5JlZ/J7ai7uTXqTr9v3Y86hHuX6dR2PubVSX0H3T2ZDs4OCRzziY/a/r+HDfNka2qEdl80p2O4sQ5O1LaPhitien4yCEmaF7Gd+4EmXMEOPW6Zfgjub3EhQ2jq47NpFVm46dWcSbZ0yYMOFfMzMeLD/BmJz94MpfqdPjESJz6fN+yeVb860jLgdpmZMHq9OJCwd2exqpDvAK6Mfr7R7gtsAASDnMol2TeOXIUZKy6kLK9xzw70Yr31TmrXyAr519eNXw9SZK1fkisw+vy23FS1PKFsW8Tc8z8WQCXdtM5B7fkrh6LOB2Zzo7doxizNF4Kt50sc29/vFmjW22UsN5odIZ3pvzKlPiMiut/QjL/5zACky4KEbHZoUd5+T1XjAVbc7jHV9kdFAAKQmb+fKY7bL8Rt7vzZsLJxa346XFbMFZgOT0NcVLZzPeuPs5LPtWUa7OINp4p7Dv4ETGHLDxYMcnGVQygPgzU3h05bdszern84qXecQIo3jZO8LojIzristlJ9WRRu49Zn7yi5d5XePM/qHiTl5Las+TVavjlbiByasns6fMs7zTqB1VzCeZv/kZng05mXHMBY6X7rQRM9XqPMpQ168MXPUjuzNzKomxW5m6aRsmXJnPtpkpVvo+vu88hA6+JsKPf8bD62ZxyHF5P5fZnvc/yJOOcWzJb5xf+AFp9rHXqN6beud/YOz5AUys0ZHAsAXZiUlT0RY82fEF/hcUQFL8Zr46buPx8nvos3Aq4S4zgWWG80arwXQJ8MOeuJtftrzO5IgzuY+TTSXp1GAw5SK/5eeoZNLPzuC1s1n/eJb5wbMYWr03Db3MbE7wpnWlxkSG3M/vF+KxE8/s3QsY3a8fPTyX8UuyO+0xv/iZ8dj+3Nuq8uH0iZiuiilPsabqN9x9cih37Y/M6FdM1Xii/1fUCO7Po7kkxa8cJ+R9nC6XA7sznYSELUwNPcqoatUIssXQteOzjAiqQimrg7NRi3lr/QcsiE83nmvO/4NOd0zAteYu3ogyU7XaM7zXogd1i1hw2KPYEvwMow8cc6O8Cl+OkMe80tKFz4few45ZD/J9ohOw0rL1bCalP8etOw7iyuyHlh9y0qZCZUp72gg5OIFH9/xJ0Rqv8VZlXwIqfMfWeg7SIibReXMSr1xRBjv4OLQeL5ecQfsVS8n4zcGDW1rP4n3G02lrouFZFeQ6XTXnNxzPjCW48it591eG45mMMUXuc/ZCtLVsLpwmy1/2w7qI/HdcnxvVTZXpUiKM8QsH0W72e6x3mkiOmctT83tR58ce3LE3kQEdnuDW7Ce3rDQuV5qla0bSc+ZdjIlsxGtN2+ENYK7DE90n0DH+M/r93I5avwzjqcMhJF7Rv5upVvsJ7nNOoc+09tSa2pt+6xcT6sj7/daAYXzeoQWHNw2i7pReDDlclIe6jqVnERM4z7B017csT0znwJH3+eGc8X2P6VG/8dKhg6SnbObTnSs54QRbYCta24JZGBFtMFF1Af7c2vodxtjmMXR6e+rMeouDZV7my4Y13Mxe51Jezj28s3oK+5OX88SvvWnx68N8HZsxfSoSdAslDj9Dz5n9uG/fUmaGe9G3Wp3MR4jMlKvSk/pnF7M00Wl4TmChfLm7GFUx65ERB0eOfsRXkQkknp3Ba0dD3Py1M5U/zxyhbM0neKFOJ1oElMT7qombJ22qd8H31B/MC1vCcjowsLxv9mTR+PiyijeeyEQHdUrXwzffY7FRrlQ9gpLPZCTgsuR57eNYFjyd2OoPcLdPYZqLlaZVGnFg4yDqTR3JFMu9fNH3aRqcGEe7n25l2PGyjG3ek5KZrzYX7UQfz1kMmdGJJotmYK7/Fq9U8AZMBFZ5kR8bejL9j77UmtKPB46X48XOI6mfeVhmz1toZf+OwbPv4JY1y0lM3caX25cQ6jzJwp1TWJeScdJW/078r3ZzgrKvQyD9Wg0mee/nrErNZyCVy2cCuOx7+GL3YTo1GURto6JK28dXKwfR+Kf2tFy2GJ8Gb/BU0KXHOc1F2nNrkVkMmd6JNusO0rr1F/xYK4l353en7qxPOFf1aR4saQW8aNPiQ17x38RjMztR85eH+NE8nC9btMArj2O88rzdqc/5t1tz0Y709V7CfTM60GjxfPwaPcO9/lknn0c/51Z/k/sxmn17cGfpUywIWc7csKPUrX4rNbKup7UpY7uMwvvQQzSb2pMBey30qFwmsx3nU49yOS6TrTb96vemieEjpUWoX6oGaRcOZyaVL7Lm4AKc5XrRwtOKxaMad1ary6lTWwkzyO4Ytm9rQ9qVTmPtsR3kTCuA68p+1qgfPL+FWXn0edevjmSVeRPGdn+SaidfoM1PHWi9aiOVW73DuKAiWS+gSYWKrF47gs6/3c9HcQ3zeT0UCWqOz4GnuW3OAHpsOUW/NvfSzJzGik0vMD3hBFOX3UaL6bfz0NFoLNcc24zP9T8R2wzLx0yVss0Jil7JkvirK21GDbyGcU6e7/WnV+uJDLV/x20/d6b1shXUqt4en0vP9Obx3nzqrDOK06kVaV6qWP6TSnMAzUqVJ+ri2SuTsjcyXpoq0qtcIu/N70bdWV9wvvp4ZnXqwIENg6k39T6+Nw/l5ToVs48993iZd4yAq+NlvFvjoAw+FcexZsgytg38ivfqN6VELsnovMYuecfL/OoWFCnbjToR42j7063cG16e53t8yWOZ8fOWtftp2eoBOlvJtywK30YCuKVsNU5GrGTfVR3jZX20qRJ9Kzn5YuGt1J4+lnUBj/FS9cDs8d0V7fngmcvqWh7j/GsYr2d8dB3uqFaRXaFLWRCygnNl+tA7e1kZf3q3eZO7076i17TOtF62mMpV22a3P7PvAD7r2oe43aNp8mMnumw4QKv2rzLc10yu7c9UnJY176FP8aIGN3ma8C3RgOqpRzmY7AQyk3I5f7SwVKG2/9Wt1jCWFSR+YhRTwlh6dDs1qnXPXmfZWvxW+nmuZ/bJi7nGz5zjhDzH7llnb61Cj/JVSEk4wTmXnYhj73Dnr52oMfUeXottweS2t1Emq9BMOeeal32QtQ1Ptq7H5pW3UWdKRxrNfIqPImNxuXkchS3HPOeVbjB7tqRp6pfcM28w7Rf8iLP+M9zrb+Lc0VcYdzyBvbvvp9X03rTduD7jx5oryuBdZoYu5mBQT3p4Zl2opgyonM6ikL2kuTmec6d8rpRjPBPtzL+/MhzPkOecPc+2lk8f4Ew8w3mf+jTzznskkn3db6o7Z0XkZlbA0a0HXdot4sDwNRwYvoa9fe/NmLC7zrN0/2KOOyBjQhXDtrDV7EtKweFKIiRkGvNS69EqIKsTc3Aw5Hc2pDiBZP48tRt7QE3KmcBWqg8Diq7i7R3rOGF34XRc4ODZo1zIcSR2hx0Pr6rU8w+kiCuFM9GHOOHI6/1mqlXuTtXTP/LeySjSXYkcOvwl01Pb07+sJxDH3uNr2J/m4HTkEtbFG/+uZU/YxqzTp7GnHWX58QNcAEwe/vjZY4jO7acwa3P6VYhn+s7ZHExzkp60hQ/2bKNS1c6XEh55yr28cpMWNY/vs+86SmNryEpMlXvS1AKYKnBbtSpsCllPdC7nBOms29CDWqvXZt5d4eTM2T9YHZtKWtwW5p455+bdm05C9z3JoJ37KVPtYb6+fTEHhv7CZ/Ub4J/1Eo823FnZxurQjcSl72BeeCqdq3egeOY/Gx9fliRW7J1CbK1v2DvsE+7zy6VKW9ox+Z7VrG9VhnnB8wm/IlDmfe2dcTP5ILwSDzVqjvGKQXlxcDTkR2bFJuGwh7EwPAS/xLV8Fn6aFFcCu49tJLJYTapmHbZzB98Hb+Gs00VSzBw+Ckmle5VGeFCM7rXaE7H/Y36LuYjDGcfu/d+zpEhHumcm61zpW5l68AhJWV9tD2Nl2F7OOWMIPraew5mPaSaHPUO1Ge+xPeN2AvwrCW+xzwAAIABJREFUPMzjRWYxMfR8/nep5fKZmQfPmdBvmGG9mycqB+SYJDg5cWoJq2PjSHM5iTv/G9+eKEKz0mWzJ8Iuxxa+3bOdc047506uYLPTQvChX9mT6iAtYRWLowKpW9wPk7U5g6s5+HXHL+xKseNID2Nm8HwSKnSmsdnd83ajPrvRbl2OrXyzexORDicJ0UtYdKEidd3o59zrb3I7RjM1qvWifuwy5sekExG2lD3+vbijRMb32kp241bTcj47eJSLLicXzkzh25NZK8jlV4+Mj8uZOIOBPwzjk9icpWSmZIVneLd6JO9tX5n5SL6L2Oi1rHTexm/DthJx72+87P0HL+7ek+NOtMwqZdSnWv0pbo7jfEphH0jLu8+7bnUkk61kD3pbV/DR3r3EOB3EnpvKh2FF6F2tYWZSz8nRkBmsTMq8azXf10Pambn8FJWICxexpzez17MGtQ0nZNcjthmf638jthmVj5liRf1wpVzgQq6dYuHHOXm+19qc28rHMCN4CWF2F2kXV/PhwX2XJUHz+t586qxzN98FH6Fj16X8efvoXNb1BFvpMSwftoRPgoL5cP/BHHf53MB46YphyZ8zMvv8lSw+50nS6Z+ZFZuYGT9DqVa86qXEb27xMr8YwdXx0r264iIm8kceWfEkwxY8wIO7dlOu0Ud8U6+yYTI677FLXvEyv7oFaedm8UlExjgi+NhGIm1hzN6bET+jTq5gs6sqdX3MkE9ZFLqNmPwoXgRikmPzHgu6LrBk789sT7FjTwlmdsRZqhWvlP3jypXtOUf55TLOv5bxOoBH6d7c7r2bucfPkha9jAUXGzKwatmMCZG1OX3LnWf67mWEO1ykJ27kk4N/ZrYBM5Wr9qPx2R+ZdPwkSa50zp7+ga8ia9KzfCCm3Nqf8zBvz2zDkMMxV52nzbc3b7duypat37DBDnCRrSf2UbbGvfQv5o3NVpnbG91GHbMnPkbLUxnEsmuPny7iTixitU8P+vlnrGvfqHp3vMOXsNFu/J1w9Tgh9/rvQee289k7bBWHhk9ljG0p47atId5+kCWhf3I63YHLEcnyvfM4WqIJDbL6qavmmpcfsp10ly+VAqtT3sNMemo4e2JicOZ5HNdajvnFXjdKOm0TUw8fJxVwJm1jXezlY0ijN1xZBs6LK5kdVZ/+lUpgArzL9qJ76nLmRttxdzyX13UynPPnGM+43OmvchnP5DVnz7ut5d0HOGLn8GF4Vd4ctJqNrW/JfXPgrOuu5KmIuKmAj+2ns2n7fTx1PGMi7nJe5LyrNhBPdOrlwydvGtZ+nOfrtqZmUStOlwVfTxPzrVmB30VCWuKl0Oe0k272wGYCs2cJiicd4WSeMd/J8YNv8LLnGB7rMZtPLZFsPPIVr+5czZlc328m0LMYsYnnLi1E7zzLiUQLrTx9MZPk9qPcObnS4oi3libQCkbPcZk8AihhiWJj4qVvSE48Q0zREgSaICT/b8i1vHLjTIkh5rJgkB61mAWO9+hf+mN2Jvegv89m3j8Zdx3WeHLhwpQjC2/GbAKnK/N8XbEEH/6Yhw5/DCYfqld+hC87vc3zMf0ZdyqN4hV709W5nkdPZTxisiV0DfG39qan1xJ+znfdNA/a1BlMqWOP02zDxtwnuo4NPDe9G1Maf8HM+l356MRszrh9ioms2TONyNsfZMj+d919V9abiU2Oz6xbLtIc6ThSY4nNPE6XI410s392YHemnSMy+1E6F2cvRuEVEEBRUyBlvIpQt+HnrKub9e8WilpSmONhhjRwpcdwoaBjZVsTnmpRjXlrJnHcRe4DDHc59vPN7j2saDKUhssvX53LRGCZYbzStB+3+PticTmxefhzYX/GnRguwJUeR0z28aeR4ogjLrtfSSfF4cJqtmH2KEVpjzJ07DqTvtnX2wMf87bL7s66dvm1W8gs8+xnOdNIcVjwMJsBJ3m222tpeOZa3FGtKgeOjCPUBc7E1cw9+yhjqjfkvahdmIoWxz/5wGWDwVTOJmXWwfzqUYF6QRMBZR/lp/Y1WbzyUX6MyywIUxD3dHybwWnv0/OnBRxylKZz83f5vNs57lg8gzA3zt1lj+OC058SRS1QyBW9blyfdzVz0QCKJR0hMrv47Jy+eB7/kgGZSRUnF5Ljsks3/9eDM/0iCVn/7LKT7rLhYfi89c0b287l/w03aWxzEpsSj6lEcYqbyPHkS5bCj3Nw5f5ek0cAgeazrM4uUyfnEs5ctgZ4ft+bB3NNBtevx451/Xjo6FlyWxkn/ezndJ82j6Hdf+KBmpWZFxzmfiu8pngZx4Ur+nwHMTnip9liI+Mev9zjpaeHZ74xolDxEhdxUWtYnPW/CV/xjHdz1lZtT/n9x3P8KOuGXONl/tfYmWMckZozfjqteFhMmG5UvHTFcyENAjyLYSYyjz4mjujs5JOLVEc6HkUvjTRytudLch/nhxe2QwOgKG2qd6N45GcsS3IBR5gfFs5D1XtSfd+3HPUIINB8nsikrINyciExKrP7M1PauySeZR5l0d2jsz/RYrVz+rwPZqIKFK0s3l14q+cj+O17nFFhWT90OIk4NJ6HvcbxQp/FvEkUW4+sY11qe2LzeTIoy/WIn6RvZVbEc7xSrTqf7falf2UzS9cEG/4AWogPZ9P2+3ji2EVS0+OJs2ceo7Uy/Zs9zgOVahNkdeHAixLWHXhlj5lyzjUv49jMpFW/81yTF1jQqjRJ0av4ZtsH/HCu8EvX5F+O+cVed77jItkrObnspDsvH0MayVkGF/gjJJhxtbtQ9vAiGldvS2TYaA5dlyWnjeb8UCPHeMat/iqX8Uzuc/5ra2tm31t5oFIkE2cO5Ou4wi+wIiKSUwGTpy5SUqOITLxsHRVzxt+v+NDiw3i/WSmmLh7C8JgE7OY6jBvwIYFufIMzOYoLXuUoZ4GjeS1qYg9j7rZnmLvNjF+xHrx263hejN7Ow0m5vd9JdHIsxQJL4QmZu6yXpryXneiUhEJPLgHSo7eyOf1V+lQMZE5IzscbTbjSYoh2lqSctxkyB5FFvUsTkBJKtAtwpGE3Wy8lrkzexr8wG3EBJjde6zzKnNAYple/hblJ3QmM+JB11yGeOFPOE21uQnkvM9kjAHMpKnjD+SSDOxJcFwk5/ivzY/rRqVgA5lMOelVvjV9RJx8Mapv5+iL42zy4s2oZpu87lc+18aeynzf7D+3M4w6hLCkcORVMVM3KVDDDmQJcdGf8XN4PG8KHjdux9LLitjvsWMyX7jkx2XwMliVwn9mjFEEeJkjJeCy0tHcJkpJjSHHFcC45hZ0H7mfIoasfobVkbvtZ0EGixacZbfyrU673EkYBmL0I8DDzyeBKfLNsJO9GFXTg7SIq7Bt+avAZT1Wff+luHHNznu50N2x9iM7HTpLkstGx/ULGF2KnAldaNOfTj/H9H8P56Ko7Ia+ffNvt38SjVG/6F7NRuvH3BDfM+JvNVgTfYr1ovX0Xm1IuEOdZmlImMhOVRSjt5Yc5HsinHrnPRLEyDzO1cys2rxnD22cum6CYKlAvII116xdxINUBnGbN4dWcvb01zWwzCHOn37HvZcNZD56s0hzfk5suDbozv/uqWmPUD96gPs+IMyWGWK8ggsxw1AFgpaxPCeKSYwwH+AV9fU4uTJdt8nHzxrZr6h//1tjm5NjpHZxp1JWevjP4Jsej+yZMWK5hnJPXGCmjTP0pUdQEqRlxwM+zWPYO9tcyvsJUjqo+x9h4OirXxOmlIohkw+kIng8sj4UCJE/5++NlclpSnjEi+2mHwn91NrvTDoVeW884Xl7TNc75DTcsXsaw5VQoE6p3oe6ug+y9ooKYMF31eHgh5DLOfyDM7W2FrubRmjsrl8DT+hQrhz2W8TeLDx7WngwI/IG3YmOIdpagjFdW+zNT3LtEZvtzcj4pmrgT33Pr6lUYryjpHotXRyb1Gkulo09z374jl5JvAM4zrNjxBCt2ZPyvrdQTrKq1j2mxbi72mm/8NFqE5fKYApDK5qOr8GzfkxZRfvR0rOB/UW5tROAGF6lpFziXfHkJmilb83neLLmD4fPHsislHbPPEGYPbHrF+3LnJCpyGs9ETgNLCVo2eosp7Yawde6XGXtJFEa+5Zhf7E0n3WnBmp1FNePj4YXZ7WLM6Neu/tuV/x9zYhHrW93LbSUu0qJsOHO3h1+nTaQM5vx4XPWqGzPnv7a2ZvGpRPnEXWxMUOJURK6v67PmaQ4mmzee9rOEXUzAjpnAsnfQ12CtHiPp55YwJ6ULzzZtSzmrCZMlgNqlq2c/wp112BXLdqOtvx82nCSmnCfOnrHrbu7vdxJ6fCXHy97LY+UCseFFjZoPcI/nJuadTs7laMDsPZhZI6fxaLE8iiptAx8GH6Bl63d5tXoDynkUoahHEI2qjOaLtr0pYd/B/BP+DGrSjxo2EzavljzRsBURx1Zz1AX2+KOEeDahrZ8NMFOy/AD6+rlXXs60OOItZajkmd+ldBIauoSICo8xqbonS0N2XHq82/jMqVplNM9Vq5Znht15cQOLoqpxb7M+1CvqgdUaSJPaDzLYayeLTsXjwkbL+k/xv4p1qFC0KDZLAHWqDKF/QDT7oi+AbzcGljnPD8vupMvsQXSbPYhuswcyeE84jar3oGp+EyuTBZvZSZozx+jIXIuxd27il1o5HodzppNuthV8pzSS2bRnCiEVhzIge7bn5HRMKM5SLWlsBfClWe3euT4K6RZzM0Y2akkpswmvYv14tIYny4/tIY0LLDu8iZoNn2JQoD9WTNg8ytC0csv8yygHW2Bfnm/ckQomcMRN4+4Z/eiUWfa3rllEZNp6Xpr3GF9GOwAbHdot43DnjgZDplw4j/D97m00qDeA2tlrVXnia0kgIu4sSS6w+XRnSIWAwnVA9m3MCPNheKshtPDyACx4e9WiS/kaee6sefl5u/c9ebfbGyH//qYorat3I+DUO/SamdVeBtFx9hv8YenMneW8SY9axXJXd8bUro43ZooHjeB/5bMeIStcPTJ5NGZEiyG08zQBJvxKP8hPXTpzaOPTvHMmCQ+LBx4WS+b6eMfYE22jXY2e1PAwY7IE0b5mZ6omhRFqJ/e2eYXzzN05lXNVXuHrZl2o5+VNUas/lUv34YXuj9E1R/do3A8WtM8rRB3JlB61nKX2bjxavx7+JjP+JYfyWNU0Fof9aZikKujrr+CKJybNj4o+Ppnld7PGtmvrH//u2JZ+biqTwsvwTLeXGVamAgHWIvh61aBbg/G8V68ylmsY5+Q5RrLvYOHJ0gyo1SBjHW9rTYbWbJrd/17L+AqTFSvppDmv7MByqwtpjnRs5sI8j/A3x8tCxgiDL7iyrpgCaVG1M039AvGz+VOxzN283rA+YSc2E+HCzb4tB4N4eU3XOKdClYU7bcRJ6KFP+Nk0mC86D6dzQCBeVi9KFmvJsNYTebx0wUdZOY8ht3F+7m/Jr/xNBFToQ1fXMh6fNTA7fnb7fQRvnA2iX7X62Ow7WHyqJIMbd6eixYTNuy2P1rm0/EpY2HwOlh3NC5Ur4WsCs8WfqkEdaOGdR0U2laRTw0cZWjIjDpu92vF6r5epH/4KY/YdJd3iQRHLpXGpqWgNWpYsR3EPH4ICe/Fa277E75/KyjRwb0xWsPh5dUzJkB61mAWunkxs2ZnYsKXsyycJeeU4oeCK2jyxJ4dzLCUd8KZxLff7B5NHHXpUqkOQ1QyOBKKSE0nHgSPX6nI9yjGf2Os8xv64irQrWxILYPPtybDyfm72DU5iUy5SyrcMRfN7adoWZp4IYniHUbS+sJSFF/O+UNd6na76vBsy5y9kW8titmJ1ppPHHrIiIoVyraMbQ+nnfuHNE2/y1h0ziE6MIzpmNzvc/cXUeYAPlr+Grc2TLBn2NkUdcYQc/5gHz4VesWB3Ub/OvND+Bap7eoA9iuCjbzA2PDGP94dwIeYnxmwoxlttZ3HQ20JC7Ea+XjGZJSm5965m79KUStpHcJ7ByEHYgafpn3w/zzWcyPL2pShijyL03Dqm7p5NLHEs3TSWim2f47chz+LrPM+ukIk8tPdoxjpKKct5a3sbPu05k/7J0URGbWZjjHvl5Upey7eHb2PywHU85wrhs4X3MyO3or24gtkXHmGS7++MPZvfr3GZGwbYjvBBaGgeBxDBD6vH4dv6EX4a9DKlLCmcid7IDysm8mtixuL3MSkWbmk8iceLl6OYJZXouD9ZsukZ3j5jp2rj3jSKmcPYk2euWHPm/IGZ7KxzJ3cU/4l3ovN8OAOTyYUz5yU0l6RMkXB2nU+44ndal8thsMyAe5wXF/DekWHMbhCQ/beUk98wvuJbfDzwN2KSz3MgIphgR6lCfHrmd6SsZUnqXUwf/DYVLOfZuPcF3jiR8ZtrVNjrjPB4gvFdZ/OalwfpaZHsP/UL4w13Cc5dxqY4kazYu5YTzmRiki8lWGypyTgoSlxyLBlV3osgbyt7Txx1Y3fLLC5iwr/lu0ZdeT7rVw/HFj7e1o1Puv1Gj6QoYpP2s/tcFDUKduiZElm/9TFea/YMb9/xIBWsDhKSQtl86CO2nXTzvHNt8pc/U593u70Ru3jm29/YWjGwkpU/NizkUNLld98s4Yew0Xxdox3FwpcxefUU3u3wNcHN7Zw+O4tZx89yhytjKYE861Eu5ZK1wcCaozPYkGylZe3BNPfyp0X3xQzNfI0zeTZDfnmdtc7zzNzwEpXbPcrvQ14iwJRMZPRa3lj9HcFOwGrcNnNKjvqWIYvO8nTz0fx01yRKmBI4GbObRQe+ZXuOLuHqfnAUH8c4C9jnuVtHDNh3MXnFx0xo9w5bm/hD6lEWbX+WyZEpGN2pkffr85nQuI4zd996+rRewOH2drZsHcSIQzdnbLNfQ//498e2KBasHUVCw4d5vP2PTPDxJi05gr0nF/B58ClSEws/zsl7jBTH4s2vULvjiywekEhU6jm2nN1BQil33psPkwUzV8dL47rgyrh30PTPjJeFiRFXy1lXrASVuZdxrWtQvqgHKckhbDzyAvfvPpwRH3MZd+Tt6nh5Tdf4KoWJl+61EVfqNiYseozwZg8wvveDVCni4kLCETaFTuP9gq+JcJVcx/m5ybf8A+lVoxUXjj7Cwvjoy1YiucD0Axt5uFUfbtk5kUWbX6J2xxf4Y9jzJMZv5utjm0gs68ABOOJnMmZlEV5t+RlbOxXD4ogjImoVH23ckPtxZW4Y1Th1Gr9EpeBb/i6GFg/Eo/hX7Gmc+RpnGB/Nu5u3zjsw2+owouNj9PT3xZF8lJUHnmfknkOZx+vemKwg8dM4pkThch5mTlgsY5raeTs0NN+7Ga8cJxQ0a+Xk2OFPmVZ2HIsGDiUyJZ5jp/fzp9PN+61NxWha7ykmdyyDt8lOfNwmPtkwg8O5Hsb1KUd7nvPKU0zfOpU2Hb5jTd1ozl/cwebIs1R264TsBB+exv6ukwgeYSM1fDwt1l29bVWGFDYfXY2lZn927VtFZD5Ff23X6Wo3Zs4fwoXCtLUsJjMml/OanrwRETFiCgoqq99lcmWmcsMvmOx8nXv2nfwXdMKedO0wh5eSnqT7jpybQPwzmTza8e6Ap4lddSevn7s0tLOWeow5DY4wcuVSrlh502sg0+/qwbLZY/g+4fo82PKvZm3Hu7d1YMHCiay9Xk9s3cQs/iNZcEdzfv71EX6+DoPKgrlR/Y0P/bstZHjkYO7af+Zv78dya5s3xr+vz7s+FNv+izxLPcaiHoFMnD6eFdnhL/e64FV5EtubRDBo/hcGO6pLTn9t3yY53ZjyN1O23lesKjOTFiv+yPHo9t/gLx2TmShe4wPW19pGr0W/ZNxd/W/xLxvbmv2GM/f2Rvz4+7PMzuNH0/8GK1UafsXSMnO55Y8FmRuZAlho0uRLPqpZHr/0JYye+3Hm5qAiIu5T8vQ/xOrTn+9uv50tC+/ni7h/esQwU73+x0yrX5bIU9/y1MbFHHPrlIrRvukExteogSViAj02b83/MVn5DzBhtRancaP3mV5lOwNnf8ref2wTMVOm9C2Uit/O3mQoVe5hfuzShIULRvLZDVwj9mb07+rzJDe6zvkJ5M4uP/BciVi27XuTZw4cJvcFHS5jq8foDs9zXylfdmy9lyfCbsyGayI3E4tfczpajrAuJgGrbxfe6PkiJfcMYuSRqH/BD00FYKnGI32+ovmhQYw8ci1rpMuN5U2LVj/yRZGP6bRuPdewIvA/n6Udkwa+QMf0Q8zY8iqfRBZ+wzARESNKnv4nWGjc/Gd+refPnr3jGBW8578dXEVyMjfg5Tu/YSg7+GbDS7x/OvYfPOAyU632W3zXrCVBFjP21EPM2zmR10KOX7Zj97+d+rz/Bl1nEbm+rCXv4+fOw2lU1AqO8+w48hFjd67j9H8oc2or/yJbuvUg5dSn3L/qdw7pzvObkqlIL766+0XaJq3kpWUTmJPwH6qkIiJ/AyVPRURERERERERERAxcyz6nIiIiIiIiIiIiIv9aSp6KiIiIiIiIiIiIGFDyVERERERERERERMSAkqciIiIiIiIiIiIiBpQ8FRERERERERERETGg5KmIiIiIiIiIiIiIASVPRURERERERERERAwoeSoiIiIiIiIiIiJiQMlTEREREREREREREQNKnoqIiIiIiIiIiIgYUPJURERERERERERExICSpyIiIiIiIiIiIiIGlDwVERERERERERERMaDkqYiIiIiIiIiIiIgBJU9FREREREREREREDCh5KiIiIiIiIiIiImJAyVMRERERERERERERA0qeioiIiIiIiIiIiBhQ8lRERERERERERETEgJKnIiIiIiIiIiIiIgaUPBURERERERERERExoOSpiIiIiIiIiIiIiAElT0VEREREREREREQMKHkqIiIiIiIiIiIiYkDJUxEREREREREREREDSp6KiIiIiIiIiIiIGFDyVERERERERERERMSAkqciIiIiIiIiIiIiBpQ8FRERERERERERETGg5KmIiIiIiIiIiIiIASVPRURERERERERERAwoeSoiIiIiIiIiIiJiQMlTEREREREREREREQNKnoqIiIiIiIiIiIgYUPJURERERERERERExICSpyIiIiIiIiIiIiIGlDwVERERERERERERMaDkqYiIiIiIiIiIiIgBJU9FREREREREREREDCh5KiIiIiIiIiIiImJAyVMRERERERERERERA0qeioiIiIiIiIiIiBhQ8lRERERERERERETEgJKnIiIiIiIiIiIiIgaUPBURERERERERERExoOSpiIiIiIiIiIiIiAElT0VEREREREREREQMKHkqIiIiIiIiIiIiYkDJUxEREREREREREREDSp6KiIiIiIiIiIiIGFDyVERERERERERERMSAkqciIiIiIiIiIiIiBpQ8FRERERERERERETGg5KmIiIiIiIiIiIiIASVPRURERERERERERAwoeSoiIiIiIiIiIiJiQMlTEREREREREREREQNKnoqIiIiIiIiIiIgYUPJURERERERERERExICSpyIiIiIiIiIiIiIGlDwVERERERERERERMaDkqYiIiIiIiIiIiIgBJU9FREREREREREREDCh5KiIiIiIiIiIiImJAyVMRERERERERERERA0qeioiIiIiIiIiIiBhQ8lRERERERERERETEgJKnIiIiIiIiIiIiIgaUPBURERERERERERExoOSpiIiIiIiIiIiIiAElT0VEREREREREREQMKHkqIiIiIiIiIiIiYkDJUxEREREREREREREDSp6KiIiIiIiIiIiIGFDyVERERERERERERMSAkqciIiIiIiIiIiIiBpQ8FRERERERERERETGg5KmIiIiIiIiIiIiIASVPRURERERERERERAwoeSoiIiIiIiIiIiJiQMlTEREREREREREREQNKnoqIiIiIiIiIiIgYUPJURERERERERERExICSpyIiIiIiIiIiIiIGlDwVERERERERERERMaDkqYiIiIiIiIiIiIgBJU9FREREREREREREDCh5KiIiIiIiIiIiImJAyVMRERERERERERERA0qeioiIiIiIiIiIiBhQ8lRERERERERERETEgJKnIiIiIiIiIiIiIgaUPBURERERERERERExoOSpiIiIiIiIiIiIiAElT0VEREREREREREQMKHkqIiIiIiIiIiIiYkDJUxEREREREREREREDSp6KiIiIiIiIiIiIGFDyVERERERERERERMSAkqciIiIiIiIiIiIiBpQ8FRERERERERERETGg5KmIiIiIiIiIiIiIASVPReT/27EDAQAAAABB/tYLjFAYAQAAADDkKQAAAADAkKcAAAAAAEOeAgAAAAAMeQoAAAAAMOQpAAAAAMCQpwAAAAAAQ54CAAAAAAx5CgAAAAAw5CkAAAAAwJCnAAAAAABDngIAAAAADHkKAAAAADDkKQAAAADAkKcAAAAAAEOeAgAAAAAMeQoAAAAAMOQpAAAAAMCQpwAAAAAAQ54CAAAAAAx5CgAAAAAw5CkAAAAAwJCnAAAAAABDngIAAAAADHkKAAAAADDkKQAAAADAkKcAAAAAAEOeAgAAAAAMeQoAAAAAMOQpAAAAAMCQpwAAAAAAQ54CAAAAAAx5CgAAAAAw5CkAAAAAwJCnAAAAAABDngIAAAAADHkKAAAAADDkKQAAAADAkKcAAAAAAEOeAgAAAAAMeQoAAAAAMOQpAAAAAMCQpwAAAAAAQ54CAAAAAAx5CgAAAAAw5CkAAAAAwJCnAAAAAABDngIAAAAADHkKAAAAADDkKQAAAADAkKcAAAAAAEOeAgAAAAAMeQoAAAAAMOQpAAAAAMCQpwAAAAAAQ54CAAAAAAx5CgAAAAAw5CkAAAAAwJCnAAAAAABDngIAAAAADHkKAAAAADDkKQAAAADAkKcAAAAAAEOeAgAAAAAMeQrHOiFTAAAD5ElEQVQAAAAAMOQpAAAAAMCQpwAAAAAAQ54CAAAAAAx5CgAAAAAw5CkAAAAAwJCnAAAAAABDngIAAAAADHkKAAAAADDkKQAAAADAkKcAAAAAAEOeAgAAAAAMeQoAAAAAMOQpAAAAAMCQpwAAAAAAQ54CAAAAAAx5CgAAAAAw5CkAAAAAwJCnAAAAAABDngIAAAAADHkKAAAAADDkKQAAAADAkKcAAAAAAEOeAgAAAAAMeQoAAAAAMOQpAAAAAMCQpwAAAAAAQ54CAAAAAAx5CgAAAAAw5CkAAAAAwJCnAAAAAABDngIAAAAADHkKAAAAADDkKQAAAADAkKcAAAAAAEOeAgAAAAAMeQoAAAAAMOQpAAAAAMCQpwAAAAAAQ54CAAAAAAx5CgAAAAAw5CkAAAAAwJCnAAAAAABDngIAAAAADHkKAAAAADDkKQAAAADAkKcAAAAAAEOeAgAAAAAMeQoAAAAAMOQpAAAAAMCQpwAAAAAAQ54CAAAAAAx5CgAAAAAw5CkAAAAAwJCnAAAAAABDngIAAAAADHkKAAAAADDkKQAAAADAkKcAAAAAAEOeAgAAAAAMeQoAAAAAMOQpAAAAAMCQpwAAAAAAQ54CAAAAAAx5CgAAAAAw5CkAAAAAwJCnAAAAAABDngIAAAAADHkKAAAAADDkKQAAAADAkKcAAAAAAEOeAgAAAAAMeQoAAAAAMOQpAAAAAMCQpwAAAAAAQ54CAAAAAAx5CgAAAAAw5CkAAAAAwJCnAAAAAABDngIAAAAADHkKAAAAADDkKQAAAADAkKcAAAAAAEOeAgAAAAAMeQoAAAAAMOQpAAAAAMCQpwAAAAAAQ54CAAAAAAx5CgAAAAAw5CkAAAAAwJCnAAAAAABDngIAAAAADHkKAAAAADDkKQAAAADAkKcAAAAAAEOeAgAAAAAMeQoAAAAAMOQpAAAAAMCQpwAAAAAAQ54CAAAAAAx5CgAAAAAw5CkAAAAAwJCnAAAAAABDngIAAAAADHkKAAAAADDkKQAAAADAkKcAAAAAAEOeAgAAAAAMeQoAAAAAMOQpAAAAAMCQpwAAAAAAQ54CAAAAAAx5CgAAAAAw5CkAAAAAwJCnAAAAAABDngIAAAAADHkKAAAAADDkKQAAAADAkKcAAAAAAEOeAgAAAAAMeQoAAAAAMOQpAAAAAMCQpwAAAAAAQ54CAAAAAAx5CgAAAAAw5CkAAAAAwJCnAAAAAABDngIAAAAADHkKAAAAADDkKQAAAADAkKcAAAAAAEOeAgAAAAAMeQoAAAAAMOQpAAAAAMCQpwAAAAAAQ54CAAAAAAx5CgAAAAAwAuhrgW4NJmMSAAAAAElFTkSuQmCC)\n",
        "\n",
        "> Indented block\n",
        "\n"
      ],
      "metadata": {
        "id": "AGAuV_47vj7Y"
      }
    }
  ]
}